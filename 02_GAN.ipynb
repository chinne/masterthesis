{
 "cells": [
  {
   "cell_type": "code",
   "execution_count": 1,
   "metadata": {},
   "outputs": [],
   "source": [
    "%load_ext autoreload\n",
    "%autoreload 2\n",
    "%matplotlib inline\n",
    "\n",
    "import pandas as pd\n",
    "import numpy as np\n",
    "import pickle\n",
    "\n",
    "\n",
    "from sklearn.model_selection import train_test_split\n",
    "from sklearn import preprocessing\n",
    "\n",
    "from src.models import gan#, aae  # , vae\n",
    " \n",
    "from src.common.helperfunctions import *\n",
    "from src.common.accuracy_XGboost import *\n",
    "\n",
    "\n",
    "import xgboost as xgb\n",
    "import time\n",
    "from sklearn.metrics import (\n",
    "    roc_auc_score,\n",
    "    roc_curve,\n",
    "    recall_score,\n",
    "    precision_score,\n",
    "    f1_score,\n",
    "    accuracy_score,\n",
    "    confusion_matrix,\n",
    ")\n",
    "\n",
    "import matplotlib as mpl\n",
    "import matplotlib.pyplot as plt\n",
    "import seaborn as sns"
   ]
  },
  {
   "cell_type": "code",
   "execution_count": 2,
   "metadata": {},
   "outputs": [
    {
     "data": {
      "text/html": [
       "<div>\n",
       "<style scoped>\n",
       "    .dataframe tbody tr th:only-of-type {\n",
       "        vertical-align: middle;\n",
       "    }\n",
       "\n",
       "    .dataframe tbody tr th {\n",
       "        vertical-align: top;\n",
       "    }\n",
       "\n",
       "    .dataframe thead th {\n",
       "        text-align: right;\n",
       "    }\n",
       "</style>\n",
       "<table border=\"1\" class=\"dataframe\">\n",
       "  <thead>\n",
       "    <tr style=\"text-align: right;\">\n",
       "      <th></th>\n",
       "      <th>Time</th>\n",
       "      <th>V1</th>\n",
       "      <th>V2</th>\n",
       "      <th>V3</th>\n",
       "      <th>V4</th>\n",
       "      <th>V5</th>\n",
       "      <th>V6</th>\n",
       "      <th>V7</th>\n",
       "      <th>V8</th>\n",
       "      <th>V9</th>\n",
       "      <th>...</th>\n",
       "      <th>V21</th>\n",
       "      <th>V22</th>\n",
       "      <th>V23</th>\n",
       "      <th>V24</th>\n",
       "      <th>V25</th>\n",
       "      <th>V26</th>\n",
       "      <th>V27</th>\n",
       "      <th>V28</th>\n",
       "      <th>Amount</th>\n",
       "      <th>Class</th>\n",
       "    </tr>\n",
       "  </thead>\n",
       "  <tbody>\n",
       "    <tr>\n",
       "      <th>0</th>\n",
       "      <td>0.0</td>\n",
       "      <td>-1.359807</td>\n",
       "      <td>-0.072781</td>\n",
       "      <td>2.536347</td>\n",
       "      <td>1.378155</td>\n",
       "      <td>-0.338321</td>\n",
       "      <td>0.462388</td>\n",
       "      <td>0.239599</td>\n",
       "      <td>0.098698</td>\n",
       "      <td>0.363787</td>\n",
       "      <td>...</td>\n",
       "      <td>-0.018307</td>\n",
       "      <td>0.277838</td>\n",
       "      <td>-0.110474</td>\n",
       "      <td>0.066928</td>\n",
       "      <td>0.128539</td>\n",
       "      <td>-0.189115</td>\n",
       "      <td>0.133558</td>\n",
       "      <td>-0.021053</td>\n",
       "      <td>149.62</td>\n",
       "      <td>0</td>\n",
       "    </tr>\n",
       "    <tr>\n",
       "      <th>1</th>\n",
       "      <td>0.0</td>\n",
       "      <td>1.191857</td>\n",
       "      <td>0.266151</td>\n",
       "      <td>0.166480</td>\n",
       "      <td>0.448154</td>\n",
       "      <td>0.060018</td>\n",
       "      <td>-0.082361</td>\n",
       "      <td>-0.078803</td>\n",
       "      <td>0.085102</td>\n",
       "      <td>-0.255425</td>\n",
       "      <td>...</td>\n",
       "      <td>-0.225775</td>\n",
       "      <td>-0.638672</td>\n",
       "      <td>0.101288</td>\n",
       "      <td>-0.339846</td>\n",
       "      <td>0.167170</td>\n",
       "      <td>0.125895</td>\n",
       "      <td>-0.008983</td>\n",
       "      <td>0.014724</td>\n",
       "      <td>2.69</td>\n",
       "      <td>0</td>\n",
       "    </tr>\n",
       "    <tr>\n",
       "      <th>2</th>\n",
       "      <td>1.0</td>\n",
       "      <td>-1.358354</td>\n",
       "      <td>-1.340163</td>\n",
       "      <td>1.773209</td>\n",
       "      <td>0.379780</td>\n",
       "      <td>-0.503198</td>\n",
       "      <td>1.800499</td>\n",
       "      <td>0.791461</td>\n",
       "      <td>0.247676</td>\n",
       "      <td>-1.514654</td>\n",
       "      <td>...</td>\n",
       "      <td>0.247998</td>\n",
       "      <td>0.771679</td>\n",
       "      <td>0.909412</td>\n",
       "      <td>-0.689281</td>\n",
       "      <td>-0.327642</td>\n",
       "      <td>-0.139097</td>\n",
       "      <td>-0.055353</td>\n",
       "      <td>-0.059752</td>\n",
       "      <td>378.66</td>\n",
       "      <td>0</td>\n",
       "    </tr>\n",
       "    <tr>\n",
       "      <th>3</th>\n",
       "      <td>1.0</td>\n",
       "      <td>-0.966272</td>\n",
       "      <td>-0.185226</td>\n",
       "      <td>1.792993</td>\n",
       "      <td>-0.863291</td>\n",
       "      <td>-0.010309</td>\n",
       "      <td>1.247203</td>\n",
       "      <td>0.237609</td>\n",
       "      <td>0.377436</td>\n",
       "      <td>-1.387024</td>\n",
       "      <td>...</td>\n",
       "      <td>-0.108300</td>\n",
       "      <td>0.005274</td>\n",
       "      <td>-0.190321</td>\n",
       "      <td>-1.175575</td>\n",
       "      <td>0.647376</td>\n",
       "      <td>-0.221929</td>\n",
       "      <td>0.062723</td>\n",
       "      <td>0.061458</td>\n",
       "      <td>123.50</td>\n",
       "      <td>0</td>\n",
       "    </tr>\n",
       "    <tr>\n",
       "      <th>4</th>\n",
       "      <td>2.0</td>\n",
       "      <td>-1.158233</td>\n",
       "      <td>0.877737</td>\n",
       "      <td>1.548718</td>\n",
       "      <td>0.403034</td>\n",
       "      <td>-0.407193</td>\n",
       "      <td>0.095921</td>\n",
       "      <td>0.592941</td>\n",
       "      <td>-0.270533</td>\n",
       "      <td>0.817739</td>\n",
       "      <td>...</td>\n",
       "      <td>-0.009431</td>\n",
       "      <td>0.798278</td>\n",
       "      <td>-0.137458</td>\n",
       "      <td>0.141267</td>\n",
       "      <td>-0.206010</td>\n",
       "      <td>0.502292</td>\n",
       "      <td>0.219422</td>\n",
       "      <td>0.215153</td>\n",
       "      <td>69.99</td>\n",
       "      <td>0</td>\n",
       "    </tr>\n",
       "  </tbody>\n",
       "</table>\n",
       "<p>5 rows × 31 columns</p>\n",
       "</div>"
      ],
      "text/plain": [
       "   Time        V1        V2        V3        V4        V5        V6        V7  \\\n",
       "0   0.0 -1.359807 -0.072781  2.536347  1.378155 -0.338321  0.462388  0.239599   \n",
       "1   0.0  1.191857  0.266151  0.166480  0.448154  0.060018 -0.082361 -0.078803   \n",
       "2   1.0 -1.358354 -1.340163  1.773209  0.379780 -0.503198  1.800499  0.791461   \n",
       "3   1.0 -0.966272 -0.185226  1.792993 -0.863291 -0.010309  1.247203  0.237609   \n",
       "4   2.0 -1.158233  0.877737  1.548718  0.403034 -0.407193  0.095921  0.592941   \n",
       "\n",
       "         V8        V9  ...       V21       V22       V23       V24       V25  \\\n",
       "0  0.098698  0.363787  ... -0.018307  0.277838 -0.110474  0.066928  0.128539   \n",
       "1  0.085102 -0.255425  ... -0.225775 -0.638672  0.101288 -0.339846  0.167170   \n",
       "2  0.247676 -1.514654  ...  0.247998  0.771679  0.909412 -0.689281 -0.327642   \n",
       "3  0.377436 -1.387024  ... -0.108300  0.005274 -0.190321 -1.175575  0.647376   \n",
       "4 -0.270533  0.817739  ... -0.009431  0.798278 -0.137458  0.141267 -0.206010   \n",
       "\n",
       "        V26       V27       V28  Amount  Class  \n",
       "0 -0.189115  0.133558 -0.021053  149.62      0  \n",
       "1  0.125895 -0.008983  0.014724    2.69      0  \n",
       "2 -0.139097 -0.055353 -0.059752  378.66      0  \n",
       "3 -0.221929  0.062723  0.061458  123.50      0  \n",
       "4  0.502292  0.219422  0.215153   69.99      0  \n",
       "\n",
       "[5 rows x 31 columns]"
      ]
     },
     "execution_count": 2,
     "metadata": {},
     "output_type": "execute_result"
    }
   ],
   "source": [
    "file_name = 'data/raw/creditcard.csv'\n",
    "df = pd.read_csv(file_name)\n",
    "df.head()"
   ]
  },
  {
   "cell_type": "code",
   "execution_count": 3,
   "metadata": {},
   "outputs": [],
   "source": [
    "label_col = []\n",
    "feature_cols = []\n",
    "label_col = [i for i in df.columns if 'Class' in i]\n",
    "feature_cols = [i for i in df.columns if i not in label_col]"
   ]
  },
  {
   "cell_type": "code",
   "execution_count": 4,
   "metadata": {},
   "outputs": [],
   "source": [
    "X = df.loc[:,feature_cols]\n",
    "y = df.loc[:,label_col]"
   ]
  },
  {
   "cell_type": "code",
   "execution_count": 5,
   "metadata": {},
   "outputs": [],
   "source": [
    "train_X, test_X, train_y, test_y = train_test_split(X, y, test_size=0.2, random_state=42, shuffle=True)"
   ]
  },
  {
   "cell_type": "code",
   "execution_count": 6,
   "metadata": {},
   "outputs": [],
   "source": [
    "train = pd.concat([train_X, train_y], axis=1)"
   ]
  },
  {
   "cell_type": "code",
   "execution_count": 7,
   "metadata": {},
   "outputs": [],
   "source": [
    "train_Class = train[train.Class == 1]"
   ]
  },
  {
   "cell_type": "code",
   "execution_count": 8,
   "metadata": {},
   "outputs": [
    {
     "name": "stderr",
     "output_type": "stream",
     "text": [
      "C:\\Users\\chinne\\Anaconda3\\envs\\DGM\\lib\\site-packages\\pandas\\core\\indexing.py:635: SettingWithCopyWarning: \n",
      "A value is trying to be set on a copy of a slice from a DataFrame.\n",
      "Try using .loc[row_indexer,col_indexer] = value instead\n",
      "\n",
      "See the caveats in the documentation: http://pandas.pydata.org/pandas-docs/stable/indexing.html#indexing-view-versus-copy\n",
      "  self.obj[item_labels[indexer[info_axis]]] = value\n",
      "C:\\Users\\chinne\\Anaconda3\\envs\\DGM\\lib\\site-packages\\pandas\\core\\frame.py:3940: SettingWithCopyWarning: \n",
      "A value is trying to be set on a copy of a slice from a DataFrame\n",
      "\n",
      "See the caveats in the documentation: http://pandas.pydata.org/pandas-docs/stable/indexing.html#indexing-view-versus-copy\n",
      "  errors=errors)\n"
     ]
    }
   ],
   "source": [
    "sc = StandardScaler()\n",
    "train.loc[:,'Amount'] = sc.fit_transform(train.Amount.values.reshape(-1, 1))\n",
    "test_X.loc[:,'Amount'] = sc.transform(test_X.Amount.values.reshape(-1, 1))\n",
    "train.drop('Time',axis=1, inplace=True)\n",
    "test_X.drop('Time', axis=1, inplace=True)"
   ]
  },
  {
   "cell_type": "code",
   "execution_count": 9,
   "metadata": {},
   "outputs": [],
   "source": [
    "label_col = []\n",
    "feature_cols = []\n",
    "label_col = [i for i in train.columns if 'Class' in i]\n",
    "feature_cols = [i for i in train.columns if i not in label_col]"
   ]
  },
  {
   "cell_type": "markdown",
   "metadata": {},
   "source": [
    "# Train GAN"
   ]
  },
  {
   "cell_type": "code",
   "execution_count": 10,
   "metadata": {},
   "outputs": [],
   "source": [
    "train_Class.drop('Class', axis = 1,inplace=True)\n",
    "train_Class.drop('Time', axis = 1,inplace=True)"
   ]
  },
  {
   "cell_type": "code",
   "execution_count": 11,
   "metadata": {},
   "outputs": [
    {
     "data": {
      "text/plain": [
       "Index(['V1', 'V2', 'V3', 'V4', 'V5', 'V6', 'V7', 'V8', 'V9', 'V10', 'V11',\n",
       "       'V12', 'V13', 'V14', 'V15', 'V16', 'V17', 'V18', 'V19', 'V20', 'V21',\n",
       "       'V22', 'V23', 'V24', 'V25', 'V26', 'V27', 'V28', 'Amount'],\n",
       "      dtype='object')"
      ]
     },
     "execution_count": 11,
     "metadata": {},
     "output_type": "execute_result"
    }
   ],
   "source": [
    "train_Class.columns"
   ]
  },
  {
   "cell_type": "code",
   "execution_count": 12,
   "metadata": {},
   "outputs": [],
   "source": [
    "df = prepareDataset(train_Class, batch_size = 64, device = 'cpu', label = 'no')"
   ]
  },
  {
   "cell_type": "code",
   "execution_count": 13,
   "metadata": {},
   "outputs": [
    {
     "data": {
      "text/plain": [
       "29"
      ]
     },
     "execution_count": 13,
     "metadata": {},
     "output_type": "execute_result"
    }
   ],
   "source": [
    "df.dataset.features.size(1)"
   ]
  },
  {
   "cell_type": "code",
   "execution_count": 14,
   "metadata": {},
   "outputs": [
    {
     "name": "stdout",
     "output_type": "stream",
     "text": [
      "Starting Training Loop...\n",
      "epoch: 0, Accuracy: 0.8756345177664975\n",
      "[0/1501][6/7]\tLoss_D: 0.8984\tLoss_G: 0.6933\t\n",
      "epoch: 10, Accuracy: 0.6370558375634517\n",
      "[10/1501][6/7]\tLoss_D: 0.1611\tLoss_G: 4.1653\t\n",
      "epoch: 20, Accuracy: 0.7842639593908629\n",
      "[20/1501][6/7]\tLoss_D: 0.6372\tLoss_G: 2.5601\t\n",
      "epoch: 30, Accuracy: 0.868020304568528\n",
      "[30/1501][6/7]\tLoss_D: 0.5418\tLoss_G: 2.4956\t\n",
      "epoch: 40, Accuracy: 0.9873096446700508\n",
      "[40/1501][6/7]\tLoss_D: 0.9112\tLoss_G: 1.4611\t\n",
      "epoch: 50, Accuracy: 0.949238578680203\n",
      "[50/1501][6/7]\tLoss_D: 0.8619\tLoss_G: 1.7165\t\n",
      "epoch: 60, Accuracy: 0.9771573604060914\n",
      "[60/1501][6/7]\tLoss_D: 0.7240\tLoss_G: 1.3171\t\n",
      "epoch: 70, Accuracy: 0.934010152284264\n",
      "[70/1501][6/7]\tLoss_D: 1.6737\tLoss_G: 1.0795\t\n",
      "epoch: 80, Accuracy: 0.9111675126903553\n",
      "[80/1501][6/7]\tLoss_D: 1.0689\tLoss_G: 1.0758\t\n",
      "epoch: 90, Accuracy: 0.9263959390862944\n",
      "[90/1501][6/7]\tLoss_D: 0.9612\tLoss_G: 1.1131\t\n",
      "epoch: 100, Accuracy: 0.9238578680203046\n",
      "[100/1501][6/7]\tLoss_D: 0.9870\tLoss_G: 1.3411\t\n",
      "epoch: 110, Accuracy: 0.934010152284264\n",
      "[110/1501][6/7]\tLoss_D: 0.9586\tLoss_G: 1.5115\t\n",
      "epoch: 120, Accuracy: 0.9289340101522843\n",
      "[120/1501][6/7]\tLoss_D: 1.0820\tLoss_G: 1.2757\t\n",
      "epoch: 130, Accuracy: 0.9238578680203046\n",
      "[130/1501][6/7]\tLoss_D: 1.1700\tLoss_G: 1.2937\t\n",
      "epoch: 140, Accuracy: 0.9238578680203046\n",
      "[140/1501][6/7]\tLoss_D: 0.9571\tLoss_G: 1.3645\t\n",
      "epoch: 150, Accuracy: 0.8350253807106599\n",
      "[150/1501][6/7]\tLoss_D: 0.9420\tLoss_G: 1.3729\t\n",
      "epoch: 160, Accuracy: 0.9238578680203046\n",
      "[160/1501][6/7]\tLoss_D: 0.9020\tLoss_G: 1.4332\t\n",
      "epoch: 170, Accuracy: 0.9543147208121827\n",
      "[170/1501][6/7]\tLoss_D: 1.2431\tLoss_G: 1.8973\t\n",
      "epoch: 180, Accuracy: 0.8934010152284264\n",
      "[180/1501][6/7]\tLoss_D: 1.1230\tLoss_G: 1.3161\t\n",
      "epoch: 190, Accuracy: 0.9543147208121827\n",
      "[190/1501][6/7]\tLoss_D: 1.2086\tLoss_G: 0.9320\t\n",
      "epoch: 200, Accuracy: 0.949238578680203\n",
      "[200/1501][6/7]\tLoss_D: 1.0227\tLoss_G: 1.1126\t\n",
      "epoch: 210, Accuracy: 0.9289340101522843\n",
      "[210/1501][6/7]\tLoss_D: 1.0823\tLoss_G: 0.9982\t\n",
      "epoch: 220, Accuracy: 0.8705583756345178\n",
      "[220/1501][6/7]\tLoss_D: 1.3044\tLoss_G: 1.1545\t\n",
      "epoch: 230, Accuracy: 0.9390862944162437\n",
      "[230/1501][6/7]\tLoss_D: 1.1284\tLoss_G: 1.3759\t\n",
      "epoch: 240, Accuracy: 0.8299492385786802\n",
      "[240/1501][6/7]\tLoss_D: 1.0650\tLoss_G: 1.0559\t\n",
      "epoch: 250, Accuracy: 0.916243654822335\n",
      "[250/1501][6/7]\tLoss_D: 1.1336\tLoss_G: 0.9282\t\n",
      "epoch: 260, Accuracy: 0.8477157360406091\n",
      "[260/1501][6/7]\tLoss_D: 1.0391\tLoss_G: 1.4888\t\n",
      "epoch: 270, Accuracy: 0.8223350253807107\n",
      "[270/1501][6/7]\tLoss_D: 1.1390\tLoss_G: 1.1099\t\n",
      "epoch: 280, Accuracy: 0.8705583756345178\n",
      "[280/1501][6/7]\tLoss_D: 1.0165\tLoss_G: 1.4518\t\n",
      "epoch: 290, Accuracy: 0.6751269035532995\n",
      "[290/1501][6/7]\tLoss_D: 1.2604\tLoss_G: 1.7958\t\n",
      "epoch: 300, Accuracy: 0.916243654822335\n",
      "[300/1501][6/7]\tLoss_D: 1.1341\tLoss_G: 0.8684\t\n",
      "epoch: 310, Accuracy: 0.8401015228426396\n",
      "[310/1501][6/7]\tLoss_D: 0.9611\tLoss_G: 1.0764\t\n",
      "epoch: 320, Accuracy: 0.9187817258883249\n",
      "[320/1501][6/7]\tLoss_D: 1.1243\tLoss_G: 0.8744\t\n",
      "epoch: 330, Accuracy: 0.7588832487309645\n",
      "[330/1501][6/7]\tLoss_D: 1.0166\tLoss_G: 1.3194\t\n",
      "epoch: 340, Accuracy: 0.8451776649746193\n",
      "[340/1501][6/7]\tLoss_D: 0.9547\tLoss_G: 1.3390\t\n",
      "epoch: 350, Accuracy: 0.9517766497461929\n",
      "[350/1501][6/7]\tLoss_D: 0.9573\tLoss_G: 1.2026\t\n",
      "epoch: 360, Accuracy: 0.9289340101522843\n",
      "[360/1501][6/7]\tLoss_D: 1.3278\tLoss_G: 2.6834\t\n",
      "epoch: 370, Accuracy: 0.9314720812182741\n",
      "[370/1501][6/7]\tLoss_D: 1.1243\tLoss_G: 0.9449\t\n",
      "epoch: 380, Accuracy: 0.8959390862944162\n",
      "[380/1501][6/7]\tLoss_D: 0.9212\tLoss_G: 1.3097\t\n",
      "epoch: 390, Accuracy: 0.8908629441624365\n",
      "[390/1501][6/7]\tLoss_D: 0.9881\tLoss_G: 0.9682\t\n",
      "epoch: 400, Accuracy: 0.9213197969543148\n",
      "[400/1501][6/7]\tLoss_D: 1.0573\tLoss_G: 1.0986\t\n",
      "epoch: 410, Accuracy: 0.7868020304568528\n",
      "[410/1501][6/7]\tLoss_D: 0.8797\tLoss_G: 1.6674\t\n",
      "epoch: 420, Accuracy: 0.9365482233502538\n",
      "[420/1501][6/7]\tLoss_D: 1.0397\tLoss_G: 1.1471\t\n",
      "epoch: 430, Accuracy: 0.9365482233502538\n",
      "[430/1501][6/7]\tLoss_D: 0.9412\tLoss_G: 1.1994\t\n",
      "epoch: 440, Accuracy: 0.8350253807106599\n",
      "[440/1501][6/7]\tLoss_D: 0.8722\tLoss_G: 1.0809\t\n",
      "epoch: 450, Accuracy: 0.9010152284263959\n",
      "[450/1501][6/7]\tLoss_D: 0.8553\tLoss_G: 1.1360\t\n",
      "epoch: 460, Accuracy: 0.8730964467005076\n",
      "[460/1501][6/7]\tLoss_D: 0.9890\tLoss_G: 1.2971\t\n",
      "epoch: 470, Accuracy: 0.8756345177664975\n",
      "[470/1501][6/7]\tLoss_D: 1.0340\tLoss_G: 1.7407\t\n",
      "epoch: 480, Accuracy: 0.8477157360406091\n",
      "[480/1501][6/7]\tLoss_D: 0.9360\tLoss_G: 1.1221\t\n",
      "epoch: 490, Accuracy: 0.8578680203045685\n",
      "[490/1501][6/7]\tLoss_D: 0.8602\tLoss_G: 1.2214\t\n",
      "epoch: 500, Accuracy: 0.8705583756345178\n",
      "[500/1501][6/7]\tLoss_D: 1.0607\tLoss_G: 1.2183\t\n",
      "epoch: 510, Accuracy: 0.850253807106599\n",
      "[510/1501][6/7]\tLoss_D: 1.0059\tLoss_G: 1.1642\t\n",
      "epoch: 520, Accuracy: 0.6598984771573604\n",
      "[520/1501][6/7]\tLoss_D: 0.9286\tLoss_G: 1.2557\t\n",
      "epoch: 530, Accuracy: 0.7436548223350253\n",
      "[530/1501][6/7]\tLoss_D: 1.0589\tLoss_G: 1.0502\t\n",
      "epoch: 540, Accuracy: 0.817258883248731\n",
      "[540/1501][6/7]\tLoss_D: 0.8618\tLoss_G: 1.1461\t\n",
      "epoch: 550, Accuracy: 0.8223350253807107\n",
      "[550/1501][6/7]\tLoss_D: 1.0013\tLoss_G: 1.7462\t\n",
      "epoch: 560, Accuracy: 0.9137055837563451\n",
      "[560/1501][6/7]\tLoss_D: 0.8314\tLoss_G: 2.4505\t\n",
      "epoch: 570, Accuracy: 0.9010152284263959\n",
      "[570/1501][6/7]\tLoss_D: 0.9344\tLoss_G: 2.4317\t\n",
      "epoch: 580, Accuracy: 0.7715736040609137\n",
      "[580/1501][6/7]\tLoss_D: 1.0076\tLoss_G: 1.5657\t\n",
      "epoch: 590, Accuracy: 0.8807106598984772\n",
      "[590/1501][6/7]\tLoss_D: 1.0600\tLoss_G: 2.6032\t\n",
      "epoch: 600, Accuracy: 0.868020304568528\n",
      "[600/1501][6/7]\tLoss_D: 0.9101\tLoss_G: 1.3926\t\n",
      "epoch: 610, Accuracy: 0.8147208121827412\n",
      "[610/1501][6/7]\tLoss_D: 0.9134\tLoss_G: 1.5919\t\n",
      "epoch: 620, Accuracy: 0.850253807106599\n",
      "[620/1501][6/7]\tLoss_D: 1.2096\tLoss_G: 4.3720\t\n",
      "epoch: 630, Accuracy: 0.883248730964467\n",
      "[630/1501][6/7]\tLoss_D: 0.8451\tLoss_G: 2.5022\t\n",
      "epoch: 640, Accuracy: 0.8629441624365483\n",
      "[640/1501][6/7]\tLoss_D: 0.7193\tLoss_G: 1.7170\t\n",
      "epoch: 650, Accuracy: 0.8705583756345178\n",
      "[650/1501][6/7]\tLoss_D: 0.7940\tLoss_G: 1.7103\t\n",
      "epoch: 660, Accuracy: 0.8654822335025381\n",
      "[660/1501][6/7]\tLoss_D: 0.8996\tLoss_G: 1.7712\t\n",
      "epoch: 670, Accuracy: 0.8553299492385786\n",
      "[670/1501][6/7]\tLoss_D: 0.8136\tLoss_G: 1.5344\t\n",
      "epoch: 680, Accuracy: 0.868020304568528\n",
      "[680/1501][6/7]\tLoss_D: 0.8778\tLoss_G: 1.6553\t\n",
      "epoch: 690, Accuracy: 0.7766497461928934\n",
      "[690/1501][6/7]\tLoss_D: 0.8421\tLoss_G: 1.9779\t\n",
      "epoch: 700, Accuracy: 0.8883248730964467\n",
      "[700/1501][6/7]\tLoss_D: 0.8315\tLoss_G: 1.7972\t\n",
      "epoch: 710, Accuracy: 0.8020304568527918\n",
      "[710/1501][6/7]\tLoss_D: 0.6310\tLoss_G: 1.8455\t\n",
      "epoch: 720, Accuracy: 0.8324873096446701\n",
      "[720/1501][6/7]\tLoss_D: 0.6570\tLoss_G: 1.5875\t\n",
      "epoch: 730, Accuracy: 0.6573604060913706\n",
      "[730/1501][6/7]\tLoss_D: 0.7329\tLoss_G: 1.5681\t\n",
      "epoch: 740, Accuracy: 0.7538071065989848\n",
      "[740/1501][6/7]\tLoss_D: 0.7460\tLoss_G: 1.7276\t\n",
      "epoch: 750, Accuracy: 0.8350253807106599\n",
      "[750/1501][6/7]\tLoss_D: 0.7490\tLoss_G: 2.1158\t\n",
      "epoch: 760, Accuracy: 0.7741116751269036\n",
      "[760/1501][6/7]\tLoss_D: 0.8616\tLoss_G: 1.9255\t\n",
      "epoch: 770, Accuracy: 0.8604060913705583\n",
      "[770/1501][6/7]\tLoss_D: 0.6446\tLoss_G: 2.0503\t\n",
      "epoch: 780, Accuracy: 0.8121827411167513\n",
      "[780/1501][6/7]\tLoss_D: 0.7182\tLoss_G: 1.7647\t\n",
      "epoch: 790, Accuracy: 0.817258883248731\n",
      "[790/1501][6/7]\tLoss_D: 0.7725\tLoss_G: 1.9120\t\n",
      "epoch: 800, Accuracy: 0.8426395939086294\n",
      "[800/1501][6/7]\tLoss_D: 0.7398\tLoss_G: 1.5552\t\n",
      "epoch: 810, Accuracy: 0.8121827411167513\n",
      "[810/1501][6/7]\tLoss_D: 0.6611\tLoss_G: 1.7251\t\n",
      "epoch: 820, Accuracy: 0.8756345177664975\n",
      "[820/1501][6/7]\tLoss_D: 0.7705\tLoss_G: 2.6445\t\n",
      "epoch: 830, Accuracy: 0.8045685279187818\n",
      "[830/1501][6/7]\tLoss_D: 0.5680\tLoss_G: 2.0379\t\n",
      "epoch: 840, Accuracy: 0.8604060913705583\n",
      "[840/1501][6/7]\tLoss_D: 0.5586\tLoss_G: 2.0589\t\n",
      "epoch: 850, Accuracy: 0.8756345177664975\n",
      "[850/1501][6/7]\tLoss_D: 0.8578\tLoss_G: 2.3041\t\n",
      "epoch: 860, Accuracy: 0.8781725888324873\n",
      "[860/1501][6/7]\tLoss_D: 0.6788\tLoss_G: 2.3358\t\n",
      "epoch: 870, Accuracy: 0.8045685279187818\n",
      "[870/1501][6/7]\tLoss_D: 0.6285\tLoss_G: 2.6625\t\n",
      "epoch: 880, Accuracy: 0.850253807106599\n",
      "[880/1501][6/7]\tLoss_D: 0.7100\tLoss_G: 1.6493\t\n",
      "epoch: 890, Accuracy: 0.8451776649746193\n",
      "[890/1501][6/7]\tLoss_D: 0.7410\tLoss_G: 2.6853\t\n",
      "epoch: 900, Accuracy: 0.8147208121827412\n",
      "[900/1501][6/7]\tLoss_D: 0.9358\tLoss_G: 2.0196\t\n",
      "epoch: 910, Accuracy: 0.8527918781725888\n",
      "[910/1501][6/7]\tLoss_D: 0.6204\tLoss_G: 1.6625\t\n",
      "epoch: 920, Accuracy: 0.766497461928934\n",
      "[920/1501][6/7]\tLoss_D: 0.7265\tLoss_G: 1.9759\t\n",
      "epoch: 930, Accuracy: 0.8984771573604061\n",
      "[930/1501][6/7]\tLoss_D: 0.6127\tLoss_G: 2.3285\t\n",
      "epoch: 940, Accuracy: 0.8807106598984772\n",
      "[940/1501][6/7]\tLoss_D: 0.6890\tLoss_G: 2.5841\t\n",
      "epoch: 950, Accuracy: 0.8756345177664975\n",
      "[950/1501][6/7]\tLoss_D: 0.5661\tLoss_G: 2.2823\t\n",
      "epoch: 960, Accuracy: 0.8350253807106599\n",
      "[960/1501][6/7]\tLoss_D: 0.5872\tLoss_G: 1.7826\t\n",
      "epoch: 970, Accuracy: 0.8908629441624365\n",
      "[970/1501][6/7]\tLoss_D: 0.7443\tLoss_G: 2.4385\t\n",
      "epoch: 980, Accuracy: 0.8299492385786802\n",
      "[980/1501][6/7]\tLoss_D: 0.7637\tLoss_G: 2.1105\t\n",
      "epoch: 990, Accuracy: 0.8121827411167513\n",
      "[990/1501][6/7]\tLoss_D: 0.9059\tLoss_G: 2.2366\t\n",
      "epoch: 1000, Accuracy: 0.8045685279187818\n",
      "[1000/1501][6/7]\tLoss_D: 0.5681\tLoss_G: 1.8509\t\n",
      "epoch: 1010, Accuracy: 0.9111675126903553\n",
      "[1010/1501][6/7]\tLoss_D: 1.0092\tLoss_G: 3.0269\t\n",
      "epoch: 1020, Accuracy: 0.8857868020304569\n",
      "[1020/1501][6/7]\tLoss_D: 0.4543\tLoss_G: 1.6134\t\n",
      "epoch: 1030, Accuracy: 0.8401015228426396\n",
      "[1030/1501][6/7]\tLoss_D: 0.6255\tLoss_G: 1.8576\t\n",
      "epoch: 1040, Accuracy: 0.8730964467005076\n",
      "[1040/1501][6/7]\tLoss_D: 0.7257\tLoss_G: 3.0325\t\n",
      "epoch: 1050, Accuracy: 0.8908629441624365\n",
      "[1050/1501][6/7]\tLoss_D: 0.6671\tLoss_G: 2.7305\t\n",
      "epoch: 1060, Accuracy: 0.868020304568528\n",
      "[1060/1501][6/7]\tLoss_D: 0.6240\tLoss_G: 1.9307\t\n",
      "epoch: 1070, Accuracy: 0.8654822335025381\n",
      "[1070/1501][6/7]\tLoss_D: 0.4594\tLoss_G: 2.0523\t\n",
      "epoch: 1080, Accuracy: 0.8908629441624365\n",
      "[1080/1501][6/7]\tLoss_D: 0.5542\tLoss_G: 2.6129\t\n",
      "epoch: 1090, Accuracy: 0.9263959390862944\n",
      "[1090/1501][6/7]\tLoss_D: 0.4500\tLoss_G: 1.8173\t\n",
      "epoch: 1100, Accuracy: 0.8604060913705583\n",
      "[1100/1501][6/7]\tLoss_D: 0.5784\tLoss_G: 2.4718\t\n",
      "epoch: 1110, Accuracy: 0.7741116751269036\n",
      "[1110/1501][6/7]\tLoss_D: 0.6742\tLoss_G: 2.8552\t\n",
      "epoch: 1120, Accuracy: 0.8401015228426396\n",
      "[1120/1501][6/7]\tLoss_D: 0.4927\tLoss_G: 2.5508\t\n",
      "epoch: 1130, Accuracy: 0.850253807106599\n",
      "[1130/1501][6/7]\tLoss_D: 0.5615\tLoss_G: 2.0823\t\n",
      "epoch: 1140, Accuracy: 0.8857868020304569\n",
      "[1140/1501][6/7]\tLoss_D: 0.5059\tLoss_G: 1.7929\t\n",
      "epoch: 1150, Accuracy: 0.8527918781725888\n",
      "[1150/1501][6/7]\tLoss_D: 1.2999\tLoss_G: 5.9033\t\n",
      "epoch: 1160, Accuracy: 0.9010152284263959\n",
      "[1160/1501][6/7]\tLoss_D: 0.3762\tLoss_G: 2.0672\t\n",
      "epoch: 1170, Accuracy: 0.8578680203045685\n",
      "[1170/1501][6/7]\tLoss_D: 0.5626\tLoss_G: 2.1602\t\n",
      "epoch: 1180, Accuracy: 0.883248730964467\n",
      "[1180/1501][6/7]\tLoss_D: 0.5309\tLoss_G: 5.2301\t\n",
      "epoch: 1190, Accuracy: 0.8959390862944162\n",
      "[1190/1501][6/7]\tLoss_D: 0.6884\tLoss_G: 3.7735\t\n",
      "epoch: 1200, Accuracy: 0.8527918781725888\n",
      "[1200/1501][6/7]\tLoss_D: 0.5430\tLoss_G: 2.0379\t\n",
      "epoch: 1210, Accuracy: 0.8426395939086294\n",
      "[1210/1501][6/7]\tLoss_D: 0.4825\tLoss_G: 2.6420\t\n",
      "epoch: 1220, Accuracy: 0.9060913705583756\n",
      "[1220/1501][6/7]\tLoss_D: 0.3961\tLoss_G: 2.4991\t\n",
      "epoch: 1230, Accuracy: 0.9263959390862944\n",
      "[1230/1501][6/7]\tLoss_D: 0.4457\tLoss_G: 1.6858\t\n",
      "epoch: 1240, Accuracy: 0.8756345177664975\n",
      "[1240/1501][6/7]\tLoss_D: 0.4985\tLoss_G: 1.9279\t\n",
      "epoch: 1250, Accuracy: 0.9238578680203046\n",
      "[1250/1501][6/7]\tLoss_D: 0.3694\tLoss_G: 2.2861\t\n",
      "epoch: 1260, Accuracy: 0.9060913705583756\n",
      "[1260/1501][6/7]\tLoss_D: 0.6615\tLoss_G: 3.3508\t\n",
      "epoch: 1270, Accuracy: 0.9010152284263959\n",
      "[1270/1501][6/7]\tLoss_D: 0.6768\tLoss_G: 4.1028\t\n",
      "epoch: 1280, Accuracy: 0.8756345177664975\n",
      "[1280/1501][6/7]\tLoss_D: 1.1166\tLoss_G: 4.1433\t\n",
      "epoch: 1290, Accuracy: 0.8781725888324873\n",
      "[1290/1501][6/7]\tLoss_D: 0.4464\tLoss_G: 2.1339\t\n",
      "epoch: 1300, Accuracy: 0.7791878172588832\n",
      "[1300/1501][6/7]\tLoss_D: 0.5248\tLoss_G: 2.1346\t\n",
      "epoch: 1310, Accuracy: 0.916243654822335\n",
      "[1310/1501][6/7]\tLoss_D: 0.5609\tLoss_G: 2.5185\t\n",
      "epoch: 1320, Accuracy: 0.8781725888324873\n",
      "[1320/1501][6/7]\tLoss_D: 0.5452\tLoss_G: 1.4388\t\n",
      "epoch: 1330, Accuracy: 0.8426395939086294\n",
      "[1330/1501][6/7]\tLoss_D: 0.4760\tLoss_G: 2.8854\t\n",
      "epoch: 1340, Accuracy: 0.8730964467005076\n",
      "[1340/1501][6/7]\tLoss_D: 0.6432\tLoss_G: 2.7038\t\n",
      "epoch: 1350, Accuracy: 0.8756345177664975\n",
      "[1350/1501][6/7]\tLoss_D: 0.4214\tLoss_G: 2.4565\t\n",
      "epoch: 1360, Accuracy: 0.9365482233502538\n",
      "[1360/1501][6/7]\tLoss_D: 0.4926\tLoss_G: 1.9448\t\n",
      "epoch: 1370, Accuracy: 0.8578680203045685\n",
      "[1370/1501][6/7]\tLoss_D: 0.5723\tLoss_G: 3.1319\t\n",
      "epoch: 1380, Accuracy: 0.8477157360406091\n",
      "[1380/1501][6/7]\tLoss_D: 0.5334\tLoss_G: 1.8703\t\n",
      "epoch: 1390, Accuracy: 0.8527918781725888\n",
      "[1390/1501][6/7]\tLoss_D: 0.7201\tLoss_G: 1.9015\t\n",
      "epoch: 1400, Accuracy: 0.9010152284263959\n",
      "[1400/1501][6/7]\tLoss_D: 0.3888\tLoss_G: 2.5212\t\n",
      "epoch: 1410, Accuracy: 0.8883248730964467\n",
      "[1410/1501][6/7]\tLoss_D: 0.6864\tLoss_G: 1.5469\t\n",
      "epoch: 1420, Accuracy: 0.8604060913705583\n",
      "[1420/1501][6/7]\tLoss_D: 0.5495\tLoss_G: 2.7896\t\n",
      "epoch: 1430, Accuracy: 0.8756345177664975\n",
      "[1430/1501][6/7]\tLoss_D: 0.4799\tLoss_G: 2.0368\t\n",
      "epoch: 1440, Accuracy: 0.9111675126903553\n",
      "[1440/1501][6/7]\tLoss_D: 0.3637\tLoss_G: 1.9405\t\n",
      "epoch: 1450, Accuracy: 0.8883248730964467\n",
      "[1450/1501][6/7]\tLoss_D: 0.4477\tLoss_G: 1.9177\t\n",
      "epoch: 1460, Accuracy: 0.8274111675126904\n",
      "[1460/1501][6/7]\tLoss_D: 0.6100\tLoss_G: 2.8877\t\n",
      "epoch: 1470, Accuracy: 0.868020304568528\n",
      "[1470/1501][6/7]\tLoss_D: 0.8242\tLoss_G: 2.0457\t\n",
      "epoch: 1480, Accuracy: 0.9111675126903553\n",
      "[1480/1501][6/7]\tLoss_D: 0.3635\tLoss_G: 2.2753\t\n",
      "epoch: 1490, Accuracy: 0.8807106598984772\n",
      "[1490/1501][6/7]\tLoss_D: 0.6337\tLoss_G: 2.1252\t\n",
      "epoch: 1500, Accuracy: 0.7817258883248731\n",
      "[1500/1501][6/7]\tLoss_D: 0.8809\tLoss_G: 4.1718\t\n",
      "It took  69.13789916038513\n"
     ]
    }
   ],
   "source": [
    "xgblosses, G_losses, D_losses = gan.train(df, randomNoise_dim = 29, hidden_dim = 64, realData_dim =df.dataset.features.size(1), lr = 0.002, num_epochs=1500, device='cpu')"
   ]
  },
  {
   "cell_type": "code",
   "execution_count": 21,
   "metadata": {},
   "outputs": [
    {
     "data": {
      "text/plain": [
       "array([0.87563452, 0.63705584, 0.78426396, 0.8680203 , 0.98730964,\n",
       "       0.94923858, 0.97715736, 0.93401015, 0.91116751, 0.92639594,\n",
       "       0.92385787, 0.93401015, 0.92893401, 0.92385787, 0.92385787,\n",
       "       0.83502538, 0.92385787, 0.95431472, 0.89340102, 0.95431472,\n",
       "       0.94923858, 0.92893401, 0.87055838, 0.93908629, 0.82994924,\n",
       "       0.91624365, 0.84771574, 0.82233503, 0.87055838, 0.6751269 ,\n",
       "       0.91624365, 0.84010152, 0.91878173, 0.75888325, 0.84517766,\n",
       "       0.95177665, 0.92893401, 0.93147208, 0.89593909, 0.89086294,\n",
       "       0.9213198 , 0.78680203, 0.93654822, 0.93654822, 0.83502538,\n",
       "       0.90101523, 0.87309645, 0.87563452, 0.84771574, 0.85786802,\n",
       "       0.87055838, 0.85025381, 0.65989848, 0.74365482, 0.81725888,\n",
       "       0.82233503, 0.91370558, 0.90101523, 0.7715736 , 0.88071066,\n",
       "       0.8680203 , 0.81472081, 0.85025381, 0.88324873, 0.86294416,\n",
       "       0.87055838, 0.86548223, 0.85532995, 0.8680203 , 0.77664975,\n",
       "       0.88832487, 0.80203046, 0.83248731, 0.65736041, 0.75380711,\n",
       "       0.83502538, 0.77411168, 0.86040609, 0.81218274, 0.81725888,\n",
       "       0.84263959, 0.81218274, 0.87563452, 0.80456853, 0.86040609,\n",
       "       0.87563452, 0.87817259, 0.80456853, 0.85025381, 0.84517766,\n",
       "       0.81472081, 0.85279188, 0.76649746, 0.89847716, 0.88071066,\n",
       "       0.87563452, 0.83502538, 0.89086294, 0.82994924, 0.81218274,\n",
       "       0.80456853, 0.91116751, 0.8857868 , 0.84010152, 0.87309645,\n",
       "       0.89086294, 0.8680203 , 0.86548223, 0.89086294, 0.92639594,\n",
       "       0.86040609, 0.77411168, 0.84010152, 0.85025381, 0.8857868 ,\n",
       "       0.85279188, 0.90101523, 0.85786802, 0.88324873, 0.89593909,\n",
       "       0.85279188, 0.84263959, 0.90609137, 0.92639594, 0.87563452,\n",
       "       0.92385787, 0.90609137, 0.90101523, 0.87563452, 0.87817259,\n",
       "       0.77918782, 0.91624365, 0.87817259, 0.84263959, 0.87309645,\n",
       "       0.87563452, 0.93654822, 0.85786802, 0.84771574, 0.85279188,\n",
       "       0.90101523, 0.88832487, 0.86040609, 0.87563452, 0.91116751,\n",
       "       0.88832487, 0.82741117, 0.8680203 , 0.91116751, 0.88071066,\n",
       "       0.78172589])"
      ]
     },
     "execution_count": 21,
     "metadata": {},
     "output_type": "execute_result"
    }
   ],
   "source": [
    "xgblosses"
   ]
  },
  {
   "cell_type": "code",
   "execution_count": 24,
   "metadata": {},
   "outputs": [],
   "source": [
    "number = 0.65736041"
   ]
  },
  {
   "cell_type": "code",
   "execution_count": 25,
   "metadata": {},
   "outputs": [
    {
     "name": "stdout",
     "output_type": "stream",
     "text": [
      "730\n"
     ]
    }
   ],
   "source": [
    "for i in range(xgblosses.size):\n",
    "    if np.round(xgblosses[i],8) == number:\n",
    "        print(i*10)"
   ]
  },
  {
   "cell_type": "code",
   "execution_count": 20,
   "metadata": {},
   "outputs": [
    {
     "name": "stdout",
     "output_type": "stream",
     "text": [
      "0.6370558375634517\n"
     ]
    },
    {
     "data": {
      "image/png": "[encoded data removed]",
      "text/plain": [
       "<Figure size 720x360 with 1 Axes>"
      ]
     },
     "metadata": {
      "needs_background": "light"
     },
     "output_type": "display_data"
    },
    {
     "data": {
      "image/png": "[encoded data removed]",
      "text/plain": [
       "<Figure size 432x288 with 1 Axes>"
      ]
     },
     "metadata": {
      "needs_background": "light"
     },
     "output_type": "display_data"
    }
   ],
   "source": [
    "print(min(xgblosses))\n",
    "plt.figure(figsize=(10,5))\n",
    "plt.title(f\"Vanilla GAN - Generator and Discriminator Loss During Training\")\n",
    "plt.plot(G_losses,label=\"G\")\n",
    "plt.plot(D_losses,label=\"D\")\n",
    "plt.xlabel(\"iterations\")\n",
    "plt.ylabel(\"Loss\")\n",
    "plt.legend()\n",
    "plt.savefig(f'reports/figures/gan/GAN.png')\n",
    "plt.show()\n",
    "\n",
    "w = 10\n",
    "a = pd.DataFrame(xgblosses[:]).rolling(w).mean()\n",
    "plt.title(f\"Vanilla GAN - XGB Accuracy During Training\")\n",
    "plt.plot(a)\n",
    "plt.savefig(f'reports/figures/gan/xgblosses_GAN.png')\n",
    "plt.show()"
   ]
  },
  {
   "cell_type": "code",
   "execution_count": 26,
   "metadata": {},
   "outputs": [],
   "source": [
    "amount=train_X.shape[0]\n",
    "device='cpu'"
   ]
  },
  {
   "cell_type": "code",
   "execution_count": 27,
   "metadata": {},
   "outputs": [],
   "source": [
    "randomNoise_dim = 29; hidden_dim = 64; realData_dim =df.dataset.features.size(1)"
   ]
  },
  {
   "cell_type": "code",
   "execution_count": 28,
   "metadata": {},
   "outputs": [],
   "source": [
    "more_data = gan.generate_data(730, randomNoise_dim, hidden_dim, realData_dim, amount, 'cpu')"
   ]
  },
  {
   "cell_type": "code",
   "execution_count": 29,
   "metadata": {},
   "outputs": [],
   "source": [
    "more_data = more_data.detach().numpy()"
   ]
  },
  {
   "cell_type": "code",
   "execution_count": 30,
   "metadata": {},
   "outputs": [],
   "source": [
    "b = np.ones((more_data.shape[0],more_data.shape[1]+1))\n",
    "b[:,:-1] = more_data"
   ]
  },
  {
   "cell_type": "code",
   "execution_count": null,
   "metadata": {},
   "outputs": [],
   "source": [
    "b"
   ]
  },
  {
   "cell_type": "code",
   "execution_count": 31,
   "metadata": {},
   "outputs": [
    {
     "data": {
      "text/html": [
       "<div>\n",
       "<style scoped>\n",
       "    .dataframe tbody tr th:only-of-type {\n",
       "        vertical-align: middle;\n",
       "    }\n",
       "\n",
       "    .dataframe tbody tr th {\n",
       "        vertical-align: top;\n",
       "    }\n",
       "\n",
       "    .dataframe thead th {\n",
       "        text-align: right;\n",
       "    }\n",
       "</style>\n",
       "<table border=\"1\" class=\"dataframe\">\n",
       "  <thead>\n",
       "    <tr style=\"text-align: right;\">\n",
       "      <th></th>\n",
       "      <th>V1</th>\n",
       "      <th>V2</th>\n",
       "      <th>V3</th>\n",
       "      <th>V4</th>\n",
       "      <th>V5</th>\n",
       "      <th>V6</th>\n",
       "      <th>V7</th>\n",
       "      <th>V8</th>\n",
       "      <th>V9</th>\n",
       "      <th>V10</th>\n",
       "      <th>...</th>\n",
       "      <th>V21</th>\n",
       "      <th>V22</th>\n",
       "      <th>V23</th>\n",
       "      <th>V24</th>\n",
       "      <th>V25</th>\n",
       "      <th>V26</th>\n",
       "      <th>V27</th>\n",
       "      <th>V28</th>\n",
       "      <th>Amount</th>\n",
       "      <th>Class</th>\n",
       "    </tr>\n",
       "  </thead>\n",
       "  <tbody>\n",
       "    <tr>\n",
       "      <th>0</th>\n",
       "      <td>-4.638715</td>\n",
       "      <td>3.572055</td>\n",
       "      <td>-3.823397</td>\n",
       "      <td>5.949512</td>\n",
       "      <td>-3.788929</td>\n",
       "      <td>-1.274548</td>\n",
       "      <td>-6.655632</td>\n",
       "      <td>2.715931</td>\n",
       "      <td>-4.824942</td>\n",
       "      <td>-6.610353</td>\n",
       "      <td>...</td>\n",
       "      <td>1.373171</td>\n",
       "      <td>0.312899</td>\n",
       "      <td>-0.299525</td>\n",
       "      <td>0.132043</td>\n",
       "      <td>-0.038041</td>\n",
       "      <td>0.309064</td>\n",
       "      <td>1.545302</td>\n",
       "      <td>0.381994</td>\n",
       "      <td>26.798315</td>\n",
       "      <td>1.0</td>\n",
       "    </tr>\n",
       "    <tr>\n",
       "      <th>1</th>\n",
       "      <td>-1.427995</td>\n",
       "      <td>1.403289</td>\n",
       "      <td>-3.212017</td>\n",
       "      <td>2.850598</td>\n",
       "      <td>-0.771291</td>\n",
       "      <td>-1.728487</td>\n",
       "      <td>0.051661</td>\n",
       "      <td>0.835409</td>\n",
       "      <td>-1.809643</td>\n",
       "      <td>-2.911268</td>\n",
       "      <td>...</td>\n",
       "      <td>-0.483126</td>\n",
       "      <td>0.557008</td>\n",
       "      <td>0.657995</td>\n",
       "      <td>0.348007</td>\n",
       "      <td>-1.816196</td>\n",
       "      <td>-0.189136</td>\n",
       "      <td>1.191800</td>\n",
       "      <td>-0.401033</td>\n",
       "      <td>449.359650</td>\n",
       "      <td>1.0</td>\n",
       "    </tr>\n",
       "    <tr>\n",
       "      <th>2</th>\n",
       "      <td>-0.534427</td>\n",
       "      <td>1.189443</td>\n",
       "      <td>-1.984684</td>\n",
       "      <td>3.133942</td>\n",
       "      <td>-0.562374</td>\n",
       "      <td>-1.143634</td>\n",
       "      <td>-2.564760</td>\n",
       "      <td>0.649878</td>\n",
       "      <td>-1.426495</td>\n",
       "      <td>-1.856180</td>\n",
       "      <td>...</td>\n",
       "      <td>0.502996</td>\n",
       "      <td>0.492509</td>\n",
       "      <td>-0.397957</td>\n",
       "      <td>-0.554950</td>\n",
       "      <td>-0.381981</td>\n",
       "      <td>-0.240591</td>\n",
       "      <td>0.348471</td>\n",
       "      <td>0.223105</td>\n",
       "      <td>4.787001</td>\n",
       "      <td>1.0</td>\n",
       "    </tr>\n",
       "    <tr>\n",
       "      <th>3</th>\n",
       "      <td>-0.776861</td>\n",
       "      <td>5.106525</td>\n",
       "      <td>-8.084860</td>\n",
       "      <td>8.509481</td>\n",
       "      <td>-2.943954</td>\n",
       "      <td>-3.212027</td>\n",
       "      <td>-7.968040</td>\n",
       "      <td>1.090400</td>\n",
       "      <td>-5.329693</td>\n",
       "      <td>-11.460943</td>\n",
       "      <td>...</td>\n",
       "      <td>1.972168</td>\n",
       "      <td>-0.320492</td>\n",
       "      <td>-0.340189</td>\n",
       "      <td>-0.685340</td>\n",
       "      <td>1.125186</td>\n",
       "      <td>1.198872</td>\n",
       "      <td>2.305622</td>\n",
       "      <td>0.843566</td>\n",
       "      <td>4.836034</td>\n",
       "      <td>1.0</td>\n",
       "    </tr>\n",
       "    <tr>\n",
       "      <th>4</th>\n",
       "      <td>-22.715382</td>\n",
       "      <td>12.053975</td>\n",
       "      <td>-22.450132</td>\n",
       "      <td>10.975190</td>\n",
       "      <td>-15.655964</td>\n",
       "      <td>0.821218</td>\n",
       "      <td>-30.593565</td>\n",
       "      <td>-10.997276</td>\n",
       "      <td>-10.167298</td>\n",
       "      <td>-22.158409</td>\n",
       "      <td>...</td>\n",
       "      <td>-6.110253</td>\n",
       "      <td>2.362034</td>\n",
       "      <td>0.913824</td>\n",
       "      <td>-0.182742</td>\n",
       "      <td>-0.158333</td>\n",
       "      <td>-2.423579</td>\n",
       "      <td>-1.179222</td>\n",
       "      <td>-1.312947</td>\n",
       "      <td>-0.974570</td>\n",
       "      <td>1.0</td>\n",
       "    </tr>\n",
       "  </tbody>\n",
       "</table>\n",
       "<p>5 rows × 30 columns</p>\n",
       "</div>"
      ],
      "text/plain": [
       "          V1         V2         V3         V4         V5        V6         V7  \\\n",
       "0  -4.638715   3.572055  -3.823397   5.949512  -3.788929 -1.274548  -6.655632   \n",
       "1  -1.427995   1.403289  -3.212017   2.850598  -0.771291 -1.728487   0.051661   \n",
       "2  -0.534427   1.189443  -1.984684   3.133942  -0.562374 -1.143634  -2.564760   \n",
       "3  -0.776861   5.106525  -8.084860   8.509481  -2.943954 -3.212027  -7.968040   \n",
       "4 -22.715382  12.053975 -22.450132  10.975190 -15.655964  0.821218 -30.593565   \n",
       "\n",
       "          V8         V9        V10  ...       V21       V22       V23  \\\n",
       "0   2.715931  -4.824942  -6.610353  ...  1.373171  0.312899 -0.299525   \n",
       "1   0.835409  -1.809643  -2.911268  ... -0.483126  0.557008  0.657995   \n",
       "2   0.649878  -1.426495  -1.856180  ...  0.502996  0.492509 -0.397957   \n",
       "3   1.090400  -5.329693 -11.460943  ...  1.972168 -0.320492 -0.340189   \n",
       "4 -10.997276 -10.167298 -22.158409  ... -6.110253  2.362034  0.913824   \n",
       "\n",
       "        V24       V25       V26       V27       V28      Amount  Class  \n",
       "0  0.132043 -0.038041  0.309064  1.545302  0.381994   26.798315    1.0  \n",
       "1  0.348007 -1.816196 -0.189136  1.191800 -0.401033  449.359650    1.0  \n",
       "2 -0.554950 -0.381981 -0.240591  0.348471  0.223105    4.787001    1.0  \n",
       "3 -0.685340  1.125186  1.198872  2.305622  0.843566    4.836034    1.0  \n",
       "4 -0.182742 -0.158333 -2.423579 -1.179222 -1.312947   -0.974570    1.0  \n",
       "\n",
       "[5 rows x 30 columns]"
      ]
     },
     "execution_count": 31,
     "metadata": {},
     "output_type": "execute_result"
    }
   ],
   "source": [
    "df_generatedData = pd.DataFrame(b, columns = feature_cols + label_col)\n",
    "df_generatedData.head()"
   ]
  },
  {
   "cell_type": "code",
   "execution_count": 32,
   "metadata": {},
   "outputs": [
    {
     "data": {
      "text/plain": [
       "(227845, 30)"
      ]
     },
     "execution_count": 32,
     "metadata": {},
     "output_type": "execute_result"
    }
   ],
   "source": [
    "train.shape"
   ]
  },
  {
   "cell_type": "code",
   "execution_count": 33,
   "metadata": {},
   "outputs": [],
   "source": [
    "train = train.append(df_generatedData)"
   ]
  },
  {
   "cell_type": "code",
   "execution_count": 34,
   "metadata": {},
   "outputs": [
    {
     "data": {
      "text/plain": [
       "Index(['V1', 'V2', 'V3', 'V4', 'V5', 'V6', 'V7', 'V8', 'V9', 'V10', 'V11',\n",
       "       'V12', 'V13', 'V14', 'V15', 'V16', 'V17', 'V18', 'V19', 'V20', 'V21',\n",
       "       'V22', 'V23', 'V24', 'V25', 'V26', 'V27', 'V28', 'Amount', 'Class'],\n",
       "      dtype='object')"
      ]
     },
     "execution_count": 34,
     "metadata": {},
     "output_type": "execute_result"
    }
   ],
   "source": [
    "train.columns"
   ]
  },
  {
   "cell_type": "code",
   "execution_count": 35,
   "metadata": {},
   "outputs": [
    {
     "data": {
      "text/plain": [
       "V1        0\n",
       "V2        0\n",
       "V3        0\n",
       "V4        0\n",
       "V5        0\n",
       "V6        0\n",
       "V7        0\n",
       "V8        0\n",
       "V9        0\n",
       "V10       0\n",
       "V11       0\n",
       "V12       0\n",
       "V13       0\n",
       "V14       0\n",
       "V15       0\n",
       "V16       0\n",
       "V17       0\n",
       "V18       0\n",
       "V19       0\n",
       "V20       0\n",
       "V21       0\n",
       "V22       0\n",
       "V23       0\n",
       "V24       0\n",
       "V25       0\n",
       "V26       0\n",
       "V27       0\n",
       "V28       0\n",
       "Amount    0\n",
       "Class     0\n",
       "dtype: int64"
      ]
     },
     "execution_count": 35,
     "metadata": {},
     "output_type": "execute_result"
    }
   ],
   "source": [
    "train.isnull().sum()"
   ]
  },
  {
   "cell_type": "code",
   "execution_count": 36,
   "metadata": {},
   "outputs": [],
   "source": [
    "train_y = train.Class"
   ]
  },
  {
   "cell_type": "code",
   "execution_count": 37,
   "metadata": {},
   "outputs": [
    {
     "data": {
      "text/plain": [
       "0"
      ]
     },
     "execution_count": 37,
     "metadata": {},
     "output_type": "execute_result"
    }
   ],
   "source": [
    "train_y.isnull().sum()"
   ]
  },
  {
   "cell_type": "code",
   "execution_count": 38,
   "metadata": {},
   "outputs": [],
   "source": [
    "train_X = train.drop('Class', axis=1, inplace=True)"
   ]
  },
  {
   "cell_type": "markdown",
   "metadata": {},
   "source": [
    "# XGBoost"
   ]
  },
  {
   "cell_type": "code",
   "execution_count": 39,
   "metadata": {},
   "outputs": [
    {
     "ename": "NameError",
     "evalue": "name 'dtest' is not defined",
     "output_type": "error",
     "traceback": [
      "\u001b[1;31m---------------------------------------------------------------------------\u001b[0m",
      "\u001b[1;31mNameError\u001b[0m                                 Traceback (most recent call last)",
      "\u001b[1;32m<ipython-input-39-8879160c05c5>\u001b[0m in \u001b[0;36m<module>\u001b[1;34m\u001b[0m\n\u001b[1;32m----> 1\u001b[1;33m \u001b[0mdtest\u001b[0m\u001b[1;33m.\u001b[0m\u001b[0mfeature_names\u001b[0m\u001b[1;33m\u001b[0m\u001b[1;33m\u001b[0m\u001b[0m\n\u001b[0m",
      "\u001b[1;31mNameError\u001b[0m: name 'dtest' is not defined"
     ]
    }
   ],
   "source": [
    "dtest.feature_names"
   ]
  },
  {
   "cell_type": "code",
   "execution_count": 40,
   "metadata": {},
   "outputs": [
    {
     "ename": "OSError",
     "evalue": "exception: access violation reading 0x0000000000000008",
     "output_type": "error",
     "traceback": [
      "\u001b[1;31m---------------------------------------------------------------------------\u001b[0m",
      "\u001b[1;31mOSError\u001b[0m                                   Traceback (most recent call last)",
      "\u001b[1;32m<ipython-input-40-83491a272580>\u001b[0m in \u001b[0;36m<module>\u001b[1;34m\u001b[0m\n\u001b[0;32m     14\u001b[0m         }\n\u001b[0;32m     15\u001b[0m \u001b[1;33m\u001b[0m\u001b[0m\n\u001b[1;32m---> 16\u001b[1;33m \u001b[0mmodel\u001b[0m \u001b[1;33m=\u001b[0m \u001b[0mxgb\u001b[0m\u001b[1;33m.\u001b[0m\u001b[0mtrain\u001b[0m\u001b[1;33m(\u001b[0m\u001b[0mparam\u001b[0m\u001b[1;33m,\u001b[0m \u001b[0mdtrain\u001b[0m\u001b[1;33m,\u001b[0m \u001b[0mnum_boost_round\u001b[0m\u001b[1;33m=\u001b[0m\u001b[1;36m20\u001b[0m\u001b[1;33m)\u001b[0m\u001b[1;33m\u001b[0m\u001b[1;33m\u001b[0m\u001b[0m\n\u001b[0m\u001b[0;32m     17\u001b[0m \u001b[1;31m# make prediction\u001b[0m\u001b[1;33m\u001b[0m\u001b[1;33m\u001b[0m\u001b[1;33m\u001b[0m\u001b[0m\n\u001b[0;32m     18\u001b[0m \u001b[0mpreds\u001b[0m \u001b[1;33m=\u001b[0m \u001b[0mmodel\u001b[0m\u001b[1;33m.\u001b[0m\u001b[0mpredict\u001b[0m\u001b[1;33m(\u001b[0m\u001b[0mdtest\u001b[0m\u001b[1;33m)\u001b[0m\u001b[1;33m\u001b[0m\u001b[1;33m\u001b[0m\u001b[0m\n",
      "\u001b[1;32m~\\Anaconda3\\envs\\DGM\\lib\\site-packages\\xgboost\\training.py\u001b[0m in \u001b[0;36mtrain\u001b[1;34m(params, dtrain, num_boost_round, evals, obj, feval, maximize, early_stopping_rounds, evals_result, verbose_eval, xgb_model, callbacks, learning_rates)\u001b[0m\n\u001b[0;32m    214\u001b[0m                            \u001b[0mevals\u001b[0m\u001b[1;33m=\u001b[0m\u001b[0mevals\u001b[0m\u001b[1;33m,\u001b[0m\u001b[1;33m\u001b[0m\u001b[1;33m\u001b[0m\u001b[0m\n\u001b[0;32m    215\u001b[0m                            \u001b[0mobj\u001b[0m\u001b[1;33m=\u001b[0m\u001b[0mobj\u001b[0m\u001b[1;33m,\u001b[0m \u001b[0mfeval\u001b[0m\u001b[1;33m=\u001b[0m\u001b[0mfeval\u001b[0m\u001b[1;33m,\u001b[0m\u001b[1;33m\u001b[0m\u001b[1;33m\u001b[0m\u001b[0m\n\u001b[1;32m--> 216\u001b[1;33m                            xgb_model=xgb_model, callbacks=callbacks)\n\u001b[0m\u001b[0;32m    217\u001b[0m \u001b[1;33m\u001b[0m\u001b[0m\n\u001b[0;32m    218\u001b[0m \u001b[1;33m\u001b[0m\u001b[0m\n",
      "\u001b[1;32m~\\Anaconda3\\envs\\DGM\\lib\\site-packages\\xgboost\\training.py\u001b[0m in \u001b[0;36m_train_internal\u001b[1;34m(params, dtrain, num_boost_round, evals, obj, feval, xgb_model, callbacks)\u001b[0m\n\u001b[0;32m     30\u001b[0m             \u001b[0mparams\u001b[0m \u001b[1;33m+=\u001b[0m \u001b[1;33m[\u001b[0m\u001b[1;33m(\u001b[0m\u001b[1;34m'eval_metric'\u001b[0m\u001b[1;33m,\u001b[0m \u001b[0meval_metric\u001b[0m\u001b[1;33m)\u001b[0m\u001b[1;33m]\u001b[0m\u001b[1;33m\u001b[0m\u001b[1;33m\u001b[0m\u001b[0m\n\u001b[0;32m     31\u001b[0m \u001b[1;33m\u001b[0m\u001b[0m\n\u001b[1;32m---> 32\u001b[1;33m     \u001b[0mbst\u001b[0m \u001b[1;33m=\u001b[0m \u001b[0mBooster\u001b[0m\u001b[1;33m(\u001b[0m\u001b[0mparams\u001b[0m\u001b[1;33m,\u001b[0m \u001b[1;33m[\u001b[0m\u001b[0mdtrain\u001b[0m\u001b[1;33m]\u001b[0m \u001b[1;33m+\u001b[0m \u001b[1;33m[\u001b[0m\u001b[0md\u001b[0m\u001b[1;33m[\u001b[0m\u001b[1;36m0\u001b[0m\u001b[1;33m]\u001b[0m \u001b[1;32mfor\u001b[0m \u001b[0md\u001b[0m \u001b[1;32min\u001b[0m \u001b[0mevals\u001b[0m\u001b[1;33m]\u001b[0m\u001b[1;33m)\u001b[0m\u001b[1;33m\u001b[0m\u001b[1;33m\u001b[0m\u001b[0m\n\u001b[0m\u001b[0;32m     33\u001b[0m     \u001b[0mnboost\u001b[0m \u001b[1;33m=\u001b[0m \u001b[1;36m0\u001b[0m\u001b[1;33m\u001b[0m\u001b[1;33m\u001b[0m\u001b[0m\n\u001b[0;32m     34\u001b[0m     \u001b[0mnum_parallel_tree\u001b[0m \u001b[1;33m=\u001b[0m \u001b[1;36m1\u001b[0m\u001b[1;33m\u001b[0m\u001b[1;33m\u001b[0m\u001b[0m\n",
      "\u001b[1;32m~\\Anaconda3\\envs\\DGM\\lib\\site-packages\\xgboost\\core.py\u001b[0m in \u001b[0;36m__init__\u001b[1;34m(self, params, cache, model_file)\u001b[0m\n\u001b[0;32m    944\u001b[0m         \u001b[0mself\u001b[0m\u001b[1;33m.\u001b[0m\u001b[0mhandle\u001b[0m \u001b[1;33m=\u001b[0m \u001b[0mctypes\u001b[0m\u001b[1;33m.\u001b[0m\u001b[0mc_void_p\u001b[0m\u001b[1;33m(\u001b[0m\u001b[1;33m)\u001b[0m\u001b[1;33m\u001b[0m\u001b[1;33m\u001b[0m\u001b[0m\n\u001b[0;32m    945\u001b[0m         _check_call(_LIB.XGBoosterCreate(dmats, c_bst_ulong(len(cache)),\n\u001b[1;32m--> 946\u001b[1;33m                                          ctypes.byref(self.handle)))\n\u001b[0m\u001b[0;32m    947\u001b[0m         \u001b[0mself\u001b[0m\u001b[1;33m.\u001b[0m\u001b[0mset_param\u001b[0m\u001b[1;33m(\u001b[0m\u001b[1;33m{\u001b[0m\u001b[1;34m'seed'\u001b[0m\u001b[1;33m:\u001b[0m \u001b[1;36m0\u001b[0m\u001b[1;33m}\u001b[0m\u001b[1;33m)\u001b[0m\u001b[1;33m\u001b[0m\u001b[1;33m\u001b[0m\u001b[0m\n\u001b[0;32m    948\u001b[0m         \u001b[0mself\u001b[0m\u001b[1;33m.\u001b[0m\u001b[0mset_param\u001b[0m\u001b[1;33m(\u001b[0m\u001b[0mparams\u001b[0m \u001b[1;32mor\u001b[0m \u001b[1;33m{\u001b[0m\u001b[1;33m}\u001b[0m\u001b[1;33m)\u001b[0m\u001b[1;33m\u001b[0m\u001b[1;33m\u001b[0m\u001b[0m\n",
      "\u001b[1;31mOSError\u001b[0m: exception: access violation reading 0x0000000000000008"
     ]
    }
   ],
   "source": [
    "start_time = time.time()\n",
    "dtrain = xgb.DMatrix(train_X, train_y, feature_names=feature_cols)\n",
    "dtest = xgb.DMatrix(test_X, test_y, feature_names=feature_cols)\n",
    "\n",
    "results_dict = {}\n",
    "\n",
    "param = {\n",
    "        'max_depth':5, \n",
    "        'eta':0.3, \n",
    "        'verbosity': 1, \n",
    "        'objective':'binary:logistic', \n",
    "        'eval_metric': 'auc', \n",
    "        'seed': 42\n",
    "        }\n",
    "\n",
    "model = xgb.train(param, dtrain, num_boost_round=20)\n",
    "# make prediction\n",
    "preds = model.predict(dtest)\n",
    "elapsed_time = time.time() - start_time\n",
    "print('Time elapsed to train: ', elapsed_time)"
   ]
  },
  {
   "cell_type": "code",
   "execution_count": null,
   "metadata": {},
   "outputs": [],
   "source": [
    "preds = preds.round()"
   ]
  },
  {
   "cell_type": "code",
   "execution_count": null,
   "metadata": {},
   "outputs": [],
   "source": [
    "print('---' * 45)\n",
    "print('XGBoost ROC/AUC: {:.6f}'.format(roc_auc_score(test_y, preds)))\n",
    "print('Recall Score: {:.6f}'.format(recall_score(test_y, preds)))\n",
    "print('Precision Score: {:.6f}'.format(precision_score(test_y, preds)))\n",
    "print('F1 Score: {:.6f}'.format(f1_score(test_y, preds)))\n",
    "print('Accuracy Score: {:.6f}'.format(accuracy_score(test_y, preds)))\n",
    "print('---' * 45)"
   ]
  },
  {
   "cell_type": "code",
   "execution_count": null,
   "metadata": {},
   "outputs": [],
   "source": []
  }
 ],
 "metadata": {
  "kernelspec": {
   "display_name": "Python 3",
   "language": "python",
   "name": "python3"
  },
  "language_info": {
   "codemirror_mode": {
    "name": "ipython",
    "version": 3
   },
   "file_extension": ".py",
   "mimetype": "text/x-python",
   "name": "python",
   "nbconvert_exporter": "python",
   "pygments_lexer": "ipython3",
   "version": "3.7.3"
  }
 },
 "nbformat": 4,
 "nbformat_minor": 4
}
