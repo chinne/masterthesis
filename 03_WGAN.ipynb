{
 "cells": [
  {
   "cell_type": "code",
   "execution_count": 2,
   "metadata": {},
   "outputs": [],
   "source": [
    "%load_ext autoreload\n",
    "%autoreload 2\n",
    "%matplotlib inline\n",
    "\n",
    "import pandas as pd\n",
    "import numpy as np\n",
    "import pickle\n",
    "\n",
    "\n",
    "from sklearn.model_selection import train_test_split\n",
    "from sklearn import preprocessing\n",
    "\n",
    "from src.models import gan#, aae  # , vae\n",
    " \n",
    "from src.common.helperfunctions import *\n",
    "from src.common.accuracy_XGboost import *\n",
    "\n",
    "\n",
    "import xgboost as xgb\n",
    "import time\n",
    "from sklearn.metrics import (\n",
    "    roc_auc_score,\n",
    "    roc_curve,\n",
    "    recall_score,\n",
    "    precision_score,\n",
    "    f1_score,\n",
    "    accuracy_score,\n",
    "    confusion_matrix,\n",
    ")\n",
    "\n",
    "import matplotlib as mpl\n",
    "import matplotlib.pyplot as plt\n",
    "import seaborn as sns"
   ]
  },
  {
   "cell_type": "code",
   "execution_count": 3,
   "metadata": {},
   "outputs": [
    {
     "data": {
      "text/html": [
       "<div>\n",
       "<style scoped>\n",
       "    .dataframe tbody tr th:only-of-type {\n",
       "        vertical-align: middle;\n",
       "    }\n",
       "\n",
       "    .dataframe tbody tr th {\n",
       "        vertical-align: top;\n",
       "    }\n",
       "\n",
       "    .dataframe thead th {\n",
       "        text-align: right;\n",
       "    }\n",
       "</style>\n",
       "<table border=\"1\" class=\"dataframe\">\n",
       "  <thead>\n",
       "    <tr style=\"text-align: right;\">\n",
       "      <th></th>\n",
       "      <th>Time</th>\n",
       "      <th>V1</th>\n",
       "      <th>V2</th>\n",
       "      <th>V3</th>\n",
       "      <th>V4</th>\n",
       "      <th>V5</th>\n",
       "      <th>V6</th>\n",
       "      <th>V7</th>\n",
       "      <th>V8</th>\n",
       "      <th>V9</th>\n",
       "      <th>...</th>\n",
       "      <th>V21</th>\n",
       "      <th>V22</th>\n",
       "      <th>V23</th>\n",
       "      <th>V24</th>\n",
       "      <th>V25</th>\n",
       "      <th>V26</th>\n",
       "      <th>V27</th>\n",
       "      <th>V28</th>\n",
       "      <th>Amount</th>\n",
       "      <th>Class</th>\n",
       "    </tr>\n",
       "  </thead>\n",
       "  <tbody>\n",
       "    <tr>\n",
       "      <th>0</th>\n",
       "      <td>0.0</td>\n",
       "      <td>-1.359807</td>\n",
       "      <td>-0.072781</td>\n",
       "      <td>2.536347</td>\n",
       "      <td>1.378155</td>\n",
       "      <td>-0.338321</td>\n",
       "      <td>0.462388</td>\n",
       "      <td>0.239599</td>\n",
       "      <td>0.098698</td>\n",
       "      <td>0.363787</td>\n",
       "      <td>...</td>\n",
       "      <td>-0.018307</td>\n",
       "      <td>0.277838</td>\n",
       "      <td>-0.110474</td>\n",
       "      <td>0.066928</td>\n",
       "      <td>0.128539</td>\n",
       "      <td>-0.189115</td>\n",
       "      <td>0.133558</td>\n",
       "      <td>-0.021053</td>\n",
       "      <td>149.62</td>\n",
       "      <td>0</td>\n",
       "    </tr>\n",
       "    <tr>\n",
       "      <th>1</th>\n",
       "      <td>0.0</td>\n",
       "      <td>1.191857</td>\n",
       "      <td>0.266151</td>\n",
       "      <td>0.166480</td>\n",
       "      <td>0.448154</td>\n",
       "      <td>0.060018</td>\n",
       "      <td>-0.082361</td>\n",
       "      <td>-0.078803</td>\n",
       "      <td>0.085102</td>\n",
       "      <td>-0.255425</td>\n",
       "      <td>...</td>\n",
       "      <td>-0.225775</td>\n",
       "      <td>-0.638672</td>\n",
       "      <td>0.101288</td>\n",
       "      <td>-0.339846</td>\n",
       "      <td>0.167170</td>\n",
       "      <td>0.125895</td>\n",
       "      <td>-0.008983</td>\n",
       "      <td>0.014724</td>\n",
       "      <td>2.69</td>\n",
       "      <td>0</td>\n",
       "    </tr>\n",
       "    <tr>\n",
       "      <th>2</th>\n",
       "      <td>1.0</td>\n",
       "      <td>-1.358354</td>\n",
       "      <td>-1.340163</td>\n",
       "      <td>1.773209</td>\n",
       "      <td>0.379780</td>\n",
       "      <td>-0.503198</td>\n",
       "      <td>1.800499</td>\n",
       "      <td>0.791461</td>\n",
       "      <td>0.247676</td>\n",
       "      <td>-1.514654</td>\n",
       "      <td>...</td>\n",
       "      <td>0.247998</td>\n",
       "      <td>0.771679</td>\n",
       "      <td>0.909412</td>\n",
       "      <td>-0.689281</td>\n",
       "      <td>-0.327642</td>\n",
       "      <td>-0.139097</td>\n",
       "      <td>-0.055353</td>\n",
       "      <td>-0.059752</td>\n",
       "      <td>378.66</td>\n",
       "      <td>0</td>\n",
       "    </tr>\n",
       "    <tr>\n",
       "      <th>3</th>\n",
       "      <td>1.0</td>\n",
       "      <td>-0.966272</td>\n",
       "      <td>-0.185226</td>\n",
       "      <td>1.792993</td>\n",
       "      <td>-0.863291</td>\n",
       "      <td>-0.010309</td>\n",
       "      <td>1.247203</td>\n",
       "      <td>0.237609</td>\n",
       "      <td>0.377436</td>\n",
       "      <td>-1.387024</td>\n",
       "      <td>...</td>\n",
       "      <td>-0.108300</td>\n",
       "      <td>0.005274</td>\n",
       "      <td>-0.190321</td>\n",
       "      <td>-1.175575</td>\n",
       "      <td>0.647376</td>\n",
       "      <td>-0.221929</td>\n",
       "      <td>0.062723</td>\n",
       "      <td>0.061458</td>\n",
       "      <td>123.50</td>\n",
       "      <td>0</td>\n",
       "    </tr>\n",
       "    <tr>\n",
       "      <th>4</th>\n",
       "      <td>2.0</td>\n",
       "      <td>-1.158233</td>\n",
       "      <td>0.877737</td>\n",
       "      <td>1.548718</td>\n",
       "      <td>0.403034</td>\n",
       "      <td>-0.407193</td>\n",
       "      <td>0.095921</td>\n",
       "      <td>0.592941</td>\n",
       "      <td>-0.270533</td>\n",
       "      <td>0.817739</td>\n",
       "      <td>...</td>\n",
       "      <td>-0.009431</td>\n",
       "      <td>0.798278</td>\n",
       "      <td>-0.137458</td>\n",
       "      <td>0.141267</td>\n",
       "      <td>-0.206010</td>\n",
       "      <td>0.502292</td>\n",
       "      <td>0.219422</td>\n",
       "      <td>0.215153</td>\n",
       "      <td>69.99</td>\n",
       "      <td>0</td>\n",
       "    </tr>\n",
       "  </tbody>\n",
       "</table>\n",
       "<p>5 rows × 31 columns</p>\n",
       "</div>"
      ],
      "text/plain": [
       "   Time        V1        V2        V3        V4        V5        V6        V7  \\\n",
       "0   0.0 -1.359807 -0.072781  2.536347  1.378155 -0.338321  0.462388  0.239599   \n",
       "1   0.0  1.191857  0.266151  0.166480  0.448154  0.060018 -0.082361 -0.078803   \n",
       "2   1.0 -1.358354 -1.340163  1.773209  0.379780 -0.503198  1.800499  0.791461   \n",
       "3   1.0 -0.966272 -0.185226  1.792993 -0.863291 -0.010309  1.247203  0.237609   \n",
       "4   2.0 -1.158233  0.877737  1.548718  0.403034 -0.407193  0.095921  0.592941   \n",
       "\n",
       "         V8        V9  ...       V21       V22       V23       V24       V25  \\\n",
       "0  0.098698  0.363787  ... -0.018307  0.277838 -0.110474  0.066928  0.128539   \n",
       "1  0.085102 -0.255425  ... -0.225775 -0.638672  0.101288 -0.339846  0.167170   \n",
       "2  0.247676 -1.514654  ...  0.247998  0.771679  0.909412 -0.689281 -0.327642   \n",
       "3  0.377436 -1.387024  ... -0.108300  0.005274 -0.190321 -1.175575  0.647376   \n",
       "4 -0.270533  0.817739  ... -0.009431  0.798278 -0.137458  0.141267 -0.206010   \n",
       "\n",
       "        V26       V27       V28  Amount  Class  \n",
       "0 -0.189115  0.133558 -0.021053  149.62      0  \n",
       "1  0.125895 -0.008983  0.014724    2.69      0  \n",
       "2 -0.139097 -0.055353 -0.059752  378.66      0  \n",
       "3 -0.221929  0.062723  0.061458  123.50      0  \n",
       "4  0.502292  0.219422  0.215153   69.99      0  \n",
       "\n",
       "[5 rows x 31 columns]"
      ]
     },
     "execution_count": 3,
     "metadata": {},
     "output_type": "execute_result"
    }
   ],
   "source": [
    "file_name = 'data/raw/creditcard.csv'\n",
    "df = pd.read_csv(file_name)\n",
    "df.head()"
   ]
  },
  {
   "cell_type": "code",
   "execution_count": 4,
   "metadata": {},
   "outputs": [],
   "source": [
    "label_col = []\n",
    "feature_cols = []\n",
    "label_col = [i for i in df.columns if 'Class' in i]\n",
    "feature_cols = [i for i in df.columns if i not in label_col]"
   ]
  },
  {
   "cell_type": "code",
   "execution_count": 5,
   "metadata": {},
   "outputs": [],
   "source": [
    "X = df.loc[:,feature_cols]\n",
    "y = df.loc[:,label_col]"
   ]
  },
  {
   "cell_type": "code",
   "execution_count": 6,
   "metadata": {},
   "outputs": [],
   "source": [
    "train_X, test_X, train_y, test_y = train_test_split(X, y, test_size=0.2, random_state=42, shuffle=True)"
   ]
  },
  {
   "cell_type": "code",
   "execution_count": 7,
   "metadata": {},
   "outputs": [],
   "source": [
    "train = pd.concat([train_X, train_y], axis=1)"
   ]
  },
  {
   "cell_type": "code",
   "execution_count": 8,
   "metadata": {},
   "outputs": [],
   "source": [
    "train_Class = train[train.Class == 1]"
   ]
  },
  {
   "cell_type": "code",
   "execution_count": 9,
   "metadata": {},
   "outputs": [
    {
     "name": "stderr",
     "output_type": "stream",
     "text": [
      "/home/chinne/anaconda3/lib/python3.7/site-packages/pandas/core/indexing.py:635: SettingWithCopyWarning: \n",
      "A value is trying to be set on a copy of a slice from a DataFrame.\n",
      "Try using .loc[row_indexer,col_indexer] = value instead\n",
      "\n",
      "See the caveats in the documentation: http://pandas.pydata.org/pandas-docs/stable/indexing.html#indexing-view-versus-copy\n",
      "  self.obj[item_labels[indexer[info_axis]]] = value\n",
      "/home/chinne/anaconda3/lib/python3.7/site-packages/pandas/core/frame.py:3940: SettingWithCopyWarning: \n",
      "A value is trying to be set on a copy of a slice from a DataFrame\n",
      "\n",
      "See the caveats in the documentation: http://pandas.pydata.org/pandas-docs/stable/indexing.html#indexing-view-versus-copy\n",
      "  errors=errors)\n"
     ]
    }
   ],
   "source": [
    "sc = StandardScaler()\n",
    "train.loc[:,'Amount'] = sc.fit_transform(train.Amount.values.reshape(-1, 1))\n",
    "test_X.loc[:,'Amount'] = sc.transform(test_X.Amount.values.reshape(-1, 1))\n",
    "train.drop('Time',axis=1, inplace=True)\n",
    "test_X.drop('Time', axis=1, inplace=True)"
   ]
  },
  {
   "cell_type": "code",
   "execution_count": 10,
   "metadata": {},
   "outputs": [],
   "source": [
    "label_col = []\n",
    "feature_cols = []\n",
    "label_col = [i for i in train.columns if 'Class' in i]\n",
    "feature_cols = [i for i in train.columns if i not in label_col]"
   ]
  },
  {
   "cell_type": "markdown",
   "metadata": {},
   "source": [
    "# Train GAN"
   ]
  },
  {
   "cell_type": "code",
   "execution_count": 11,
   "metadata": {},
   "outputs": [],
   "source": [
    "train_Class.drop('Class', axis = 1,inplace=True)\n",
    "train_Class.drop('Time', axis = 1,inplace=True)"
   ]
  },
  {
   "cell_type": "code",
   "execution_count": 12,
   "metadata": {},
   "outputs": [
    {
     "data": {
      "text/plain": [
       "Index(['V1', 'V2', 'V3', 'V4', 'V5', 'V6', 'V7', 'V8', 'V9', 'V10', 'V11',\n",
       "       'V12', 'V13', 'V14', 'V15', 'V16', 'V17', 'V18', 'V19', 'V20', 'V21',\n",
       "       'V22', 'V23', 'V24', 'V25', 'V26', 'V27', 'V28', 'Amount'],\n",
       "      dtype='object')"
      ]
     },
     "execution_count": 12,
     "metadata": {},
     "output_type": "execute_result"
    }
   ],
   "source": [
    "train_Class.columns"
   ]
  },
  {
   "cell_type": "code",
   "execution_count": 13,
   "metadata": {},
   "outputs": [],
   "source": [
    "df = prepareDataset(train_Class, batch_size = 64, device = 'cpu', label = 'no')"
   ]
  },
  {
   "cell_type": "code",
   "execution_count": 14,
   "metadata": {},
   "outputs": [
    {
     "data": {
      "text/plain": [
       "29"
      ]
     },
     "execution_count": 14,
     "metadata": {},
     "output_type": "execute_result"
    }
   ],
   "source": [
    "df.dataset.features.size(1)"
   ]
  },
  {
   "cell_type": "code",
   "execution_count": 15,
   "metadata": {},
   "outputs": [
    {
     "name": "stdout",
     "output_type": "stream",
     "text": [
      "Starting Training Loop...\n",
      "epoch: 0, Accuracy: 0.8121827411167513\n",
      "[0/1501][6/7]\tLoss_D: 0.8899\tLoss_G: 0.7017\t\n",
      "epoch: 10, Accuracy: 0.9974619289340102\n",
      "[10/1501][6/7]\tLoss_D: 0.0967\tLoss_G: 4.3934\t\n",
      "epoch: 20, Accuracy: 0.8401015228426396\n",
      "[20/1501][6/7]\tLoss_D: 0.5187\tLoss_G: 2.3662\t\n",
      "epoch: 30, Accuracy: 0.850253807106599\n",
      "[30/1501][6/7]\tLoss_D: 0.7482\tLoss_G: 1.9428\t\n",
      "epoch: 40, Accuracy: 0.9923857868020305\n",
      "[40/1501][6/7]\tLoss_D: 0.9278\tLoss_G: 1.0512\t\n",
      "epoch: 50, Accuracy: 0.9796954314720813\n",
      "[50/1501][6/7]\tLoss_D: 1.1537\tLoss_G: 1.1224\t\n",
      "epoch: 60, Accuracy: 0.9441624365482234\n",
      "[60/1501][6/7]\tLoss_D: 1.3197\tLoss_G: 1.6720\t\n",
      "epoch: 70, Accuracy: 0.8578680203045685\n",
      "[70/1501][6/7]\tLoss_D: 0.9939\tLoss_G: 0.9861\t\n",
      "epoch: 80, Accuracy: 0.9720812182741116\n",
      "[80/1501][6/7]\tLoss_D: 1.0616\tLoss_G: 1.0606\t\n",
      "epoch: 90, Accuracy: 0.8096446700507615\n",
      "[90/1501][6/7]\tLoss_D: 1.1781\tLoss_G: 0.9761\t\n",
      "epoch: 100, Accuracy: 0.9796954314720813\n",
      "[100/1501][6/7]\tLoss_D: 1.0525\tLoss_G: 1.3576\t\n",
      "epoch: 110, Accuracy: 0.9670050761421319\n",
      "[110/1501][6/7]\tLoss_D: 1.3122\tLoss_G: 0.9406\t\n",
      "epoch: 120, Accuracy: 0.9289340101522843\n",
      "[120/1501][6/7]\tLoss_D: 1.1335\tLoss_G: 0.9476\t\n",
      "epoch: 130, Accuracy: 0.883248730964467\n",
      "[130/1501][6/7]\tLoss_D: 1.0687\tLoss_G: 1.0681\t\n",
      "epoch: 140, Accuracy: 0.9619289340101523\n",
      "[140/1501][6/7]\tLoss_D: 1.1763\tLoss_G: 1.0643\t\n",
      "epoch: 150, Accuracy: 0.9416243654822335\n",
      "[150/1501][6/7]\tLoss_D: 1.2555\tLoss_G: 1.1790\t\n",
      "epoch: 160, Accuracy: 0.949238578680203\n",
      "[160/1501][6/7]\tLoss_D: 1.0023\tLoss_G: 1.0158\t\n",
      "epoch: 170, Accuracy: 0.8705583756345178\n",
      "[170/1501][6/7]\tLoss_D: 1.2395\tLoss_G: 0.9071\t\n",
      "epoch: 180, Accuracy: 0.7715736040609137\n",
      "[180/1501][6/7]\tLoss_D: 1.0990\tLoss_G: 1.1309\t\n",
      "epoch: 190, Accuracy: 0.8959390862944162\n",
      "[190/1501][6/7]\tLoss_D: 1.1919\tLoss_G: 0.9723\t\n",
      "epoch: 200, Accuracy: 0.9517766497461929\n",
      "[200/1501][6/7]\tLoss_D: 1.0637\tLoss_G: 0.7609\t\n",
      "epoch: 210, Accuracy: 0.883248730964467\n",
      "[210/1501][6/7]\tLoss_D: 0.9290\tLoss_G: 1.0679\t\n",
      "epoch: 220, Accuracy: 0.9822335025380711\n",
      "[220/1501][6/7]\tLoss_D: 1.2435\tLoss_G: 1.4473\t\n",
      "epoch: 230, Accuracy: 0.9517766497461929\n",
      "[230/1501][6/7]\tLoss_D: 1.1012\tLoss_G: 0.9830\t\n",
      "epoch: 240, Accuracy: 0.9619289340101523\n",
      "[240/1501][6/7]\tLoss_D: 1.2346\tLoss_G: 0.9365\t\n",
      "epoch: 250, Accuracy: 0.934010152284264\n",
      "[250/1501][6/7]\tLoss_D: 0.8981\tLoss_G: 1.2264\t\n",
      "epoch: 260, Accuracy: 0.8654822335025381\n",
      "[260/1501][6/7]\tLoss_D: 1.1005\tLoss_G: 1.1067\t\n",
      "epoch: 270, Accuracy: 0.9238578680203046\n",
      "[270/1501][6/7]\tLoss_D: 1.0398\tLoss_G: 1.3886\t\n",
      "epoch: 280, Accuracy: 0.9568527918781726\n",
      "[280/1501][6/7]\tLoss_D: 1.2136\tLoss_G: 1.3019\t\n",
      "epoch: 290, Accuracy: 0.8934010152284264\n",
      "[290/1501][6/7]\tLoss_D: 1.0604\tLoss_G: 1.1863\t\n",
      "epoch: 300, Accuracy: 0.8045685279187818\n",
      "[300/1501][6/7]\tLoss_D: 0.9691\tLoss_G: 1.5437\t\n",
      "epoch: 310, Accuracy: 0.8934010152284264\n",
      "[310/1501][6/7]\tLoss_D: 0.8858\tLoss_G: 1.0872\t\n",
      "epoch: 320, Accuracy: 0.8426395939086294\n",
      "[320/1501][6/7]\tLoss_D: 0.9576\tLoss_G: 1.1838\t\n",
      "epoch: 330, Accuracy: 0.8883248730964467\n",
      "[330/1501][6/7]\tLoss_D: 1.1522\tLoss_G: 1.2564\t\n",
      "epoch: 340, Accuracy: 0.9289340101522843\n",
      "[340/1501][6/7]\tLoss_D: 0.9330\tLoss_G: 1.3922\t\n",
      "epoch: 350, Accuracy: 0.9137055837563451\n",
      "[350/1501][6/7]\tLoss_D: 1.1090\tLoss_G: 1.4327\t\n",
      "epoch: 360, Accuracy: 0.9365482233502538\n",
      "[360/1501][6/7]\tLoss_D: 1.2215\tLoss_G: 1.4021\t\n",
      "epoch: 370, Accuracy: 0.934010152284264\n",
      "[370/1501][6/7]\tLoss_D: 1.1032\tLoss_G: 1.9690\t\n",
      "epoch: 380, Accuracy: 0.9238578680203046\n",
      "[380/1501][6/7]\tLoss_D: 1.0831\tLoss_G: 1.3982\t\n",
      "epoch: 390, Accuracy: 0.7436548223350253\n",
      "[390/1501][6/7]\tLoss_D: 1.1036\tLoss_G: 1.1860\t\n",
      "epoch: 400, Accuracy: 0.9010152284263959\n",
      "[400/1501][6/7]\tLoss_D: 1.1330\tLoss_G: 1.4185\t\n",
      "epoch: 410, Accuracy: 0.8883248730964467\n",
      "[410/1501][6/7]\tLoss_D: 1.2756\tLoss_G: 1.4568\t\n",
      "epoch: 420, Accuracy: 0.8705583756345178\n",
      "[420/1501][6/7]\tLoss_D: 1.1067\tLoss_G: 1.5801\t\n",
      "epoch: 430, Accuracy: 0.9314720812182741\n",
      "[430/1501][6/7]\tLoss_D: 1.0330\tLoss_G: 1.1865\t\n",
      "epoch: 440, Accuracy: 0.9238578680203046\n",
      "[440/1501][6/7]\tLoss_D: 1.0327\tLoss_G: 1.1556\t\n",
      "epoch: 450, Accuracy: 0.8934010152284264\n",
      "[450/1501][6/7]\tLoss_D: 1.1271\tLoss_G: 0.8962\t\n",
      "epoch: 460, Accuracy: 0.8730964467005076\n",
      "[460/1501][6/7]\tLoss_D: 1.0040\tLoss_G: 1.7424\t\n",
      "epoch: 470, Accuracy: 0.8781725888324873\n",
      "[470/1501][6/7]\tLoss_D: 1.0205\tLoss_G: 1.3315\t\n",
      "epoch: 480, Accuracy: 0.9213197969543148\n",
      "[480/1501][6/7]\tLoss_D: 0.9388\tLoss_G: 1.2251\t\n",
      "epoch: 490, Accuracy: 0.868020304568528\n",
      "[490/1501][6/7]\tLoss_D: 0.8329\tLoss_G: 1.3745\t\n",
      "epoch: 500, Accuracy: 0.9213197969543148\n",
      "[500/1501][6/7]\tLoss_D: 0.8645\tLoss_G: 1.5622\t\n",
      "epoch: 510, Accuracy: 0.8121827411167513\n",
      "[510/1501][6/7]\tLoss_D: 0.8599\tLoss_G: 1.4712\t\n",
      "epoch: 520, Accuracy: 0.8451776649746193\n",
      "[520/1501][6/7]\tLoss_D: 1.0879\tLoss_G: 1.2850\t\n",
      "epoch: 530, Accuracy: 0.9467005076142132\n",
      "[530/1501][6/7]\tLoss_D: 1.1260\tLoss_G: 2.8101\t\n",
      "epoch: 540, Accuracy: 0.8045685279187818\n",
      "[540/1501][6/7]\tLoss_D: 0.7600\tLoss_G: 1.2763\t\n",
      "epoch: 550, Accuracy: 0.8730964467005076\n",
      "[550/1501][6/7]\tLoss_D: 1.0972\tLoss_G: 2.0396\t\n",
      "epoch: 560, Accuracy: 0.934010152284264\n",
      "[560/1501][6/7]\tLoss_D: 1.0219\tLoss_G: 2.2139\t\n",
      "epoch: 570, Accuracy: 0.850253807106599\n",
      "[570/1501][6/7]\tLoss_D: 1.0580\tLoss_G: 1.9349\t\n",
      "epoch: 580, Accuracy: 0.8248730964467005\n",
      "[580/1501][6/7]\tLoss_D: 0.8261\tLoss_G: 1.7545\t\n",
      "epoch: 590, Accuracy: 0.8807106598984772\n",
      "[590/1501][6/7]\tLoss_D: 0.9471\tLoss_G: 1.2573\t\n",
      "epoch: 600, Accuracy: 0.7588832487309645\n",
      "[600/1501][6/7]\tLoss_D: 1.0311\tLoss_G: 1.2468\t\n",
      "epoch: 610, Accuracy: 0.8756345177664975\n",
      "[610/1501][6/7]\tLoss_D: 0.8574\tLoss_G: 1.5258\t\n",
      "epoch: 620, Accuracy: 0.9213197969543148\n",
      "[620/1501][6/7]\tLoss_D: 0.9155\tLoss_G: 2.2132\t\n",
      "epoch: 630, Accuracy: 0.868020304568528\n",
      "[630/1501][6/7]\tLoss_D: 0.8883\tLoss_G: 1.8450\t\n",
      "epoch: 640, Accuracy: 0.8020304568527918\n",
      "[640/1501][6/7]\tLoss_D: 0.8627\tLoss_G: 1.1694\t\n",
      "epoch: 650, Accuracy: 0.8604060913705583\n",
      "[650/1501][6/7]\tLoss_D: 0.8826\tLoss_G: 1.8470\t\n",
      "epoch: 660, Accuracy: 0.8451776649746193\n",
      "[660/1501][6/7]\tLoss_D: 1.0359\tLoss_G: 2.3072\t\n",
      "epoch: 670, Accuracy: 0.8299492385786802\n",
      "[670/1501][6/7]\tLoss_D: 0.8531\tLoss_G: 1.8403\t\n",
      "epoch: 680, Accuracy: 0.8197969543147208\n",
      "[680/1501][6/7]\tLoss_D: 0.9070\tLoss_G: 1.9968\t\n",
      "epoch: 690, Accuracy: 0.8375634517766497\n",
      "[690/1501][6/7]\tLoss_D: 0.9565\tLoss_G: 1.8393\t\n",
      "epoch: 700, Accuracy: 0.8857868020304569\n",
      "[700/1501][6/7]\tLoss_D: 0.9588\tLoss_G: 2.0554\t\n",
      "epoch: 710, Accuracy: 0.8756345177664975\n",
      "[710/1501][6/7]\tLoss_D: 0.8010\tLoss_G: 1.4141\t\n",
      "epoch: 720, Accuracy: 0.6802030456852792\n",
      "[720/1501][6/7]\tLoss_D: 0.9225\tLoss_G: 2.1235\t\n",
      "epoch: 730, Accuracy: 0.7461928934010152\n",
      "[730/1501][6/7]\tLoss_D: 0.8054\tLoss_G: 1.5201\t\n",
      "epoch: 740, Accuracy: 0.8426395939086294\n",
      "[740/1501][6/7]\tLoss_D: 0.7731\tLoss_G: 1.6557\t\n",
      "epoch: 750, Accuracy: 0.8350253807106599\n",
      "[750/1501][6/7]\tLoss_D: 0.7247\tLoss_G: 1.4509\t\n",
      "epoch: 760, Accuracy: 0.8578680203045685\n",
      "[760/1501][6/7]\tLoss_D: 0.8229\tLoss_G: 1.6344\t\n",
      "epoch: 770, Accuracy: 0.8071065989847716\n",
      "[770/1501][6/7]\tLoss_D: 0.8140\tLoss_G: 2.3452\t\n",
      "epoch: 780, Accuracy: 0.8096446700507615\n",
      "[780/1501][6/7]\tLoss_D: 0.8283\tLoss_G: 1.6931\t\n",
      "epoch: 790, Accuracy: 0.7944162436548223\n",
      "[790/1501][6/7]\tLoss_D: 0.7428\tLoss_G: 3.1551\t\n",
      "epoch: 800, Accuracy: 0.8121827411167513\n",
      "[800/1501][6/7]\tLoss_D: 0.6604\tLoss_G: 1.6326\t\n",
      "epoch: 810, Accuracy: 0.7741116751269036\n",
      "[810/1501][6/7]\tLoss_D: 0.5116\tLoss_G: 1.9955\t\n",
      "epoch: 820, Accuracy: 0.7309644670050761\n",
      "[820/1501][6/7]\tLoss_D: 0.7615\tLoss_G: 2.0137\t\n",
      "epoch: 830, Accuracy: 0.8350253807106599\n",
      "[830/1501][6/7]\tLoss_D: 0.6595\tLoss_G: 1.5487\t\n",
      "epoch: 840, Accuracy: 0.8426395939086294\n",
      "[840/1501][6/7]\tLoss_D: 0.7646\tLoss_G: 1.8248\t\n",
      "epoch: 850, Accuracy: 0.8654822335025381\n",
      "[850/1501][6/7]\tLoss_D: 0.9416\tLoss_G: 4.3613\t\n",
      "epoch: 860, Accuracy: 0.8299492385786802\n",
      "[860/1501][6/7]\tLoss_D: 0.8933\tLoss_G: 2.9421\t\n",
      "epoch: 870, Accuracy: 0.7817258883248731\n",
      "[870/1501][6/7]\tLoss_D: 0.8092\tLoss_G: 1.6762\t\n",
      "epoch: 880, Accuracy: 0.7741116751269036\n",
      "[880/1501][6/7]\tLoss_D: 0.9650\tLoss_G: 2.5862\t\n",
      "epoch: 890, Accuracy: 0.7690355329949239\n",
      "[890/1501][6/7]\tLoss_D: 0.7287\tLoss_G: 2.3086\t\n",
      "epoch: 900, Accuracy: 0.8350253807106599\n",
      "[900/1501][6/7]\tLoss_D: 0.6030\tLoss_G: 1.9943\t\n",
      "epoch: 910, Accuracy: 0.7817258883248731\n",
      "[910/1501][6/7]\tLoss_D: 0.5804\tLoss_G: 2.6228\t\n",
      "epoch: 920, Accuracy: 0.8781725888324873\n",
      "[920/1501][6/7]\tLoss_D: 0.7004\tLoss_G: 2.9174\t\n",
      "epoch: 930, Accuracy: 0.7969543147208121\n",
      "[930/1501][6/7]\tLoss_D: 0.7619\tLoss_G: 1.9966\t\n",
      "epoch: 940, Accuracy: 0.7944162436548223\n",
      "[940/1501][6/7]\tLoss_D: 0.7205\tLoss_G: 2.3454\t\n",
      "epoch: 950, Accuracy: 0.7385786802030457\n",
      "[950/1501][6/7]\tLoss_D: 0.4880\tLoss_G: 1.8972\t\n",
      "epoch: 960, Accuracy: 0.9137055837563451\n",
      "[960/1501][6/7]\tLoss_D: 0.6389\tLoss_G: 1.6665\t\n",
      "epoch: 970, Accuracy: 0.8629441624365483\n",
      "[970/1501][6/7]\tLoss_D: 0.6775\tLoss_G: 2.5393\t\n",
      "epoch: 980, Accuracy: 0.8578680203045685\n",
      "[980/1501][6/7]\tLoss_D: 0.5309\tLoss_G: 1.8974\t\n",
      "epoch: 990, Accuracy: 0.799492385786802\n",
      "[990/1501][6/7]\tLoss_D: 0.6872\tLoss_G: 2.5938\t\n",
      "epoch: 1000, Accuracy: 0.6954314720812182\n",
      "[1000/1501][6/7]\tLoss_D: 0.6056\tLoss_G: 2.4450\t\n",
      "epoch: 1010, Accuracy: 0.8045685279187818\n",
      "[1010/1501][6/7]\tLoss_D: 0.5110\tLoss_G: 1.7501\t\n",
      "epoch: 1020, Accuracy: 0.8730964467005076\n",
      "[1020/1501][6/7]\tLoss_D: 0.5811\tLoss_G: 1.9361\t\n",
      "epoch: 1030, Accuracy: 0.7233502538071066\n",
      "[1030/1501][6/7]\tLoss_D: 0.5205\tLoss_G: 2.1982\t\n",
      "epoch: 1040, Accuracy: 0.8781725888324873\n",
      "[1040/1501][6/7]\tLoss_D: 0.7027\tLoss_G: 2.0020\t\n",
      "epoch: 1050, Accuracy: 0.850253807106599\n",
      "[1050/1501][6/7]\tLoss_D: 0.7941\tLoss_G: 2.9651\t\n",
      "epoch: 1060, Accuracy: 0.8248730964467005\n",
      "[1060/1501][6/7]\tLoss_D: 0.6001\tLoss_G: 3.1720\t\n",
      "epoch: 1070, Accuracy: 0.8299492385786802\n",
      "[1070/1501][6/7]\tLoss_D: 0.5561\tLoss_G: 2.0434\t\n",
      "epoch: 1080, Accuracy: 0.7639593908629442\n",
      "[1080/1501][6/7]\tLoss_D: 0.6237\tLoss_G: 2.0527\t\n",
      "epoch: 1090, Accuracy: 0.868020304568528\n",
      "[1090/1501][6/7]\tLoss_D: 0.4647\tLoss_G: 2.4214\t\n",
      "epoch: 1100, Accuracy: 0.8781725888324873\n",
      "[1100/1501][6/7]\tLoss_D: 0.7746\tLoss_G: 2.9769\t\n",
      "epoch: 1110, Accuracy: 0.8274111675126904\n",
      "[1110/1501][6/7]\tLoss_D: 0.5276\tLoss_G: 1.9834\t\n",
      "epoch: 1120, Accuracy: 0.7868020304568528\n",
      "[1120/1501][6/7]\tLoss_D: 0.5690\tLoss_G: 2.4924\t\n",
      "epoch: 1130, Accuracy: 0.8375634517766497\n",
      "[1130/1501][6/7]\tLoss_D: 0.5506\tLoss_G: 1.9784\t\n",
      "epoch: 1140, Accuracy: 0.8984771573604061\n",
      "[1140/1501][6/7]\tLoss_D: 0.5578\tLoss_G: 2.6099\t\n",
      "epoch: 1150, Accuracy: 0.7969543147208121\n",
      "[1150/1501][6/7]\tLoss_D: 0.4725\tLoss_G: 2.8142\t\n",
      "epoch: 1160, Accuracy: 0.7715736040609137\n",
      "[1160/1501][6/7]\tLoss_D: 0.5550\tLoss_G: 2.5398\t\n",
      "epoch: 1170, Accuracy: 0.7893401015228426\n",
      "[1170/1501][6/7]\tLoss_D: 0.5597\tLoss_G: 2.1618\t\n",
      "epoch: 1180, Accuracy: 0.9086294416243654\n",
      "[1180/1501][6/7]\tLoss_D: 0.5390\tLoss_G: 2.0790\t\n",
      "epoch: 1190, Accuracy: 0.8299492385786802\n",
      "[1190/1501][6/7]\tLoss_D: 0.5957\tLoss_G: 2.7360\t\n",
      "epoch: 1200, Accuracy: 0.8121827411167513\n",
      "[1200/1501][6/7]\tLoss_D: 0.6561\tLoss_G: 1.9901\t\n",
      "epoch: 1210, Accuracy: 0.8578680203045685\n",
      "[1210/1501][6/7]\tLoss_D: 0.5463\tLoss_G: 2.4665\t\n",
      "epoch: 1220, Accuracy: 0.748730964467005\n",
      "[1220/1501][6/7]\tLoss_D: 0.6111\tLoss_G: 3.0254\t\n",
      "epoch: 1230, Accuracy: 0.8426395939086294\n",
      "[1230/1501][6/7]\tLoss_D: 0.5826\tLoss_G: 2.6623\t\n",
      "epoch: 1240, Accuracy: 0.8071065989847716\n",
      "[1240/1501][6/7]\tLoss_D: 0.4790\tLoss_G: 2.0674\t\n",
      "epoch: 1250, Accuracy: 0.8350253807106599\n",
      "[1250/1501][6/7]\tLoss_D: 0.4420\tLoss_G: 3.3753\t\n",
      "epoch: 1260, Accuracy: 0.850253807106599\n",
      "[1260/1501][6/7]\tLoss_D: 0.5362\tLoss_G: 2.7790\t\n",
      "epoch: 1270, Accuracy: 0.8274111675126904\n",
      "[1270/1501][6/7]\tLoss_D: 0.4173\tLoss_G: 2.0921\t\n",
      "epoch: 1280, Accuracy: 0.7157360406091371\n",
      "[1280/1501][6/7]\tLoss_D: 0.4035\tLoss_G: 2.1575\t\n",
      "epoch: 1290, Accuracy: 0.8553299492385786\n",
      "[1290/1501][6/7]\tLoss_D: 0.6255\tLoss_G: 4.8997\t\n",
      "epoch: 1300, Accuracy: 0.868020304568528\n",
      "[1300/1501][6/7]\tLoss_D: 0.4805\tLoss_G: 1.9882\t\n",
      "epoch: 1310, Accuracy: 0.9035532994923858\n",
      "[1310/1501][6/7]\tLoss_D: 0.5264\tLoss_G: 2.1885\t\n",
      "epoch: 1320, Accuracy: 0.8350253807106599\n",
      "[1320/1501][6/7]\tLoss_D: 0.3870\tLoss_G: 2.0030\t\n",
      "epoch: 1330, Accuracy: 0.9467005076142132\n",
      "[1330/1501][6/7]\tLoss_D: 0.5552\tLoss_G: 2.6310\t\n",
      "epoch: 1340, Accuracy: 0.8324873096446701\n",
      "[1340/1501][6/7]\tLoss_D: 3.3279\tLoss_G: 2.7351\t\n",
      "epoch: 1350, Accuracy: 0.8857868020304569\n",
      "[1350/1501][6/7]\tLoss_D: 0.5139\tLoss_G: 1.7257\t\n",
      "epoch: 1360, Accuracy: 0.8426395939086294\n",
      "[1360/1501][6/7]\tLoss_D: 0.6005\tLoss_G: 2.4491\t\n",
      "epoch: 1370, Accuracy: 0.868020304568528\n",
      "[1370/1501][6/7]\tLoss_D: 0.4926\tLoss_G: 1.8292\t\n",
      "epoch: 1380, Accuracy: 0.7766497461928934\n",
      "[1380/1501][6/7]\tLoss_D: 0.3837\tLoss_G: 2.3494\t\n",
      "epoch: 1390, Accuracy: 0.883248730964467\n",
      "[1390/1501][6/7]\tLoss_D: 0.4627\tLoss_G: 1.9548\t\n",
      "epoch: 1400, Accuracy: 0.8781725888324873\n",
      "[1400/1501][6/7]\tLoss_D: 0.4471\tLoss_G: 2.2138\t\n",
      "epoch: 1410, Accuracy: 0.8807106598984772\n",
      "[1410/1501][6/7]\tLoss_D: 0.5033\tLoss_G: 2.4939\t\n",
      "epoch: 1420, Accuracy: 0.850253807106599\n",
      "[1420/1501][6/7]\tLoss_D: 0.5794\tLoss_G: 2.8373\t\n",
      "epoch: 1430, Accuracy: 0.8705583756345178\n",
      "[1430/1501][6/7]\tLoss_D: 0.4560\tLoss_G: 1.8980\t\n",
      "epoch: 1440, Accuracy: 0.850253807106599\n",
      "[1440/1501][6/7]\tLoss_D: 0.4435\tLoss_G: 2.1098\t\n",
      "epoch: 1450, Accuracy: 0.8197969543147208\n",
      "[1450/1501][6/7]\tLoss_D: 0.4031\tLoss_G: 1.8197\t\n",
      "epoch: 1460, Accuracy: 0.8096446700507615\n",
      "[1460/1501][6/7]\tLoss_D: 0.6466\tLoss_G: 2.8574\t\n",
      "epoch: 1470, Accuracy: 0.9137055837563451\n",
      "[1470/1501][6/7]\tLoss_D: 0.4836\tLoss_G: 2.3577\t\n",
      "epoch: 1480, Accuracy: 0.8248730964467005\n",
      "[1480/1501][6/7]\tLoss_D: 0.4666\tLoss_G: 2.1295\t\n",
      "epoch: 1490, Accuracy: 0.9187817258883249\n",
      "[1490/1501][6/7]\tLoss_D: 0.5601\tLoss_G: 2.0541\t\n",
      "epoch: 1500, Accuracy: 0.8527918781725888\n",
      "[1500/1501][6/7]\tLoss_D: 0.6741\tLoss_G: 2.6639\t\n",
      "It took  74.94193267822266\n"
     ]
    }
   ],
   "source": [
    "xgblosses, G_losses, D_losses = gan.train(df, randomNoise_dim = 29, hidden_dim = 64, realData_dim =df.dataset.features.size(1), lr = 0.002, num_epochs=1500, device='cpu')"
   ]
  },
  {
   "cell_type": "code",
   "execution_count": 16,
   "metadata": {},
   "outputs": [
    {
     "data": {
      "text/plain": [
       "array([0.81218274, 0.99746193, 0.84010152, 0.85025381, 0.99238579,\n",
       "       0.97969543, 0.94416244, 0.85786802, 0.97208122, 0.80964467,\n",
       "       0.97969543, 0.96700508, 0.92893401, 0.88324873, 0.96192893,\n",
       "       0.94162437, 0.94923858, 0.87055838, 0.7715736 , 0.89593909,\n",
       "       0.95177665, 0.88324873, 0.9822335 , 0.95177665, 0.96192893,\n",
       "       0.93401015, 0.86548223, 0.92385787, 0.95685279, 0.89340102,\n",
       "       0.80456853, 0.89340102, 0.84263959, 0.88832487, 0.92893401,\n",
       "       0.91370558, 0.93654822, 0.93401015, 0.92385787, 0.74365482,\n",
       "       0.90101523, 0.88832487, 0.87055838, 0.93147208, 0.92385787,\n",
       "       0.89340102, 0.87309645, 0.87817259, 0.9213198 , 0.8680203 ,\n",
       "       0.9213198 , 0.81218274, 0.84517766, 0.94670051, 0.80456853,\n",
       "       0.87309645, 0.93401015, 0.85025381, 0.8248731 , 0.88071066,\n",
       "       0.75888325, 0.87563452, 0.9213198 , 0.8680203 , 0.80203046,\n",
       "       0.86040609, 0.84517766, 0.82994924, 0.81979695, 0.83756345,\n",
       "       0.8857868 , 0.87563452, 0.68020305, 0.74619289, 0.84263959,\n",
       "       0.83502538, 0.85786802, 0.8071066 , 0.80964467, 0.79441624,\n",
       "       0.81218274, 0.77411168, 0.73096447, 0.83502538, 0.84263959,\n",
       "       0.86548223, 0.82994924, 0.78172589, 0.77411168, 0.76903553,\n",
       "       0.83502538, 0.78172589, 0.87817259, 0.79695431, 0.79441624,\n",
       "       0.73857868, 0.91370558, 0.86294416, 0.85786802, 0.79949239,\n",
       "       0.69543147, 0.80456853, 0.87309645, 0.72335025, 0.87817259,\n",
       "       0.85025381, 0.8248731 , 0.82994924, 0.76395939, 0.8680203 ,\n",
       "       0.87817259, 0.82741117, 0.78680203, 0.83756345, 0.89847716,\n",
       "       0.79695431, 0.7715736 , 0.7893401 , 0.90862944, 0.82994924,\n",
       "       0.81218274, 0.85786802, 0.74873096, 0.84263959, 0.8071066 ,\n",
       "       0.83502538, 0.85025381, 0.82741117, 0.71573604, 0.85532995,\n",
       "       0.8680203 , 0.9035533 , 0.83502538, 0.94670051, 0.83248731,\n",
       "       0.8857868 , 0.84263959, 0.8680203 , 0.77664975, 0.88324873,\n",
       "       0.87817259, 0.88071066, 0.85025381, 0.87055838, 0.85025381,\n",
       "       0.81979695, 0.80964467, 0.91370558, 0.8248731 , 0.91878173,\n",
       "       0.85279188])"
      ]
     },
     "execution_count": 16,
     "metadata": {},
     "output_type": "execute_result"
    }
   ],
   "source": [
    "xgblosses"
   ]
  },
  {
   "cell_type": "code",
   "execution_count": 19,
   "metadata": {},
   "outputs": [],
   "source": [
    "number = 0.68020305"
   ]
  },
  {
   "cell_type": "code",
   "execution_count": 20,
   "metadata": {},
   "outputs": [
    {
     "name": "stdout",
     "output_type": "stream",
     "text": [
      "720\n"
     ]
    }
   ],
   "source": [
    "for i in range(xgblosses.size):\n",
    "    if np.round(xgblosses[i],8) == number:\n",
    "        print(i*10)"
   ]
  },
  {
   "cell_type": "code",
   "execution_count": 18,
   "metadata": {},
   "outputs": [
    {
     "name": "stdout",
     "output_type": "stream",
     "text": [
      "0.6802030456852792\n"
     ]
    },
    {
     "data": {
      "image/png": "[encoded data removed]",
      "text/plain": [
       "<Figure size 720x360 with 1 Axes>"
      ]
     },
     "metadata": {
      "needs_background": "light"
     },
     "output_type": "display_data"
    },
    {
     "data": {
      "image/png": "[encoded data removed]",
      "text/plain": [
       "<Figure size 432x288 with 1 Axes>"
      ]
     },
     "metadata": {
      "needs_background": "light"
     },
     "output_type": "display_data"
    }
   ],
   "source": [
    "print(min(xgblosses))\n",
    "plt.figure(figsize=(10,5))\n",
    "plt.title(f\"Vanilla GAN - Generator and Discriminator Loss During Training\")\n",
    "plt.plot(G_losses,label=\"G\")\n",
    "plt.plot(D_losses,label=\"D\")\n",
    "plt.xlabel(\"iterations\")\n",
    "plt.ylabel(\"Loss\")\n",
    "plt.legend()\n",
    "plt.savefig(f'reports/figures/gan/GAN.png')\n",
    "plt.show()\n",
    "\n",
    "w = 10\n",
    "a = pd.DataFrame(xgblosses[:]).rolling(w).mean()\n",
    "plt.title(f\"Vanilla GAN - XGB Accuracy During Training\")\n",
    "plt.plot(a)\n",
    "plt.savefig(f'reports/figures/gan/xgblosses_GAN.png')\n",
    "plt.show()"
   ]
  },
  {
   "cell_type": "code",
   "execution_count": 21,
   "metadata": {},
   "outputs": [],
   "source": [
    "amount=train_X.shape[0]\n",
    "device='cpu'"
   ]
  },
  {
   "cell_type": "code",
   "execution_count": 22,
   "metadata": {},
   "outputs": [],
   "source": [
    "randomNoise_dim = 29; hidden_dim = 64; realData_dim =df.dataset.features.size(1)"
   ]
  },
  {
   "cell_type": "code",
   "execution_count": 23,
   "metadata": {},
   "outputs": [],
   "source": [
    "more_data = gan.generate_data(720, randomNoise_dim, hidden_dim, realData_dim, amount, 'cpu')"
   ]
  },
  {
   "cell_type": "code",
   "execution_count": 24,
   "metadata": {},
   "outputs": [],
   "source": [
    "more_data = more_data.detach().numpy()"
   ]
  },
  {
   "cell_type": "code",
   "execution_count": 25,
   "metadata": {},
   "outputs": [],
   "source": [
    "b = np.ones((more_data.shape[0],more_data.shape[1]+1))\n",
    "b[:,:-1] = more_data"
   ]
  },
  {
   "cell_type": "code",
   "execution_count": 26,
   "metadata": {},
   "outputs": [
    {
     "data": {
      "text/plain": [
       "array([[-3.74648833e+00,  1.67158341e+00, -3.32639575e+00, ...,\n",
       "        -1.74524382e-01,  8.49631271e+01,  1.00000000e+00],\n",
       "       [-5.65757990e+00,  4.23543978e+00, -9.08534813e+00, ...,\n",
       "        -8.24903190e-01,  4.51143280e+02,  1.00000000e+00],\n",
       "       [-4.19404316e+00,  3.48470283e+00, -6.79983711e+00, ...,\n",
       "         4.14556623e-01,  7.45879769e-01,  1.00000000e+00],\n",
       "       ...,\n",
       "       [-2.80120587e+00,  3.59284377e+00, -4.07865429e+00, ...,\n",
       "        -5.41586220e-01,  4.42966156e+02,  1.00000000e+00],\n",
       "       [-2.23116159e+00,  2.35997701e+00, -3.54712534e+00, ...,\n",
       "        -1.88884273e-01,  2.06392456e+02,  1.00000000e+00],\n",
       "       [-1.16502943e+01,  6.12453222e+00, -1.40727768e+01, ...,\n",
       "        -3.23651254e-01,  2.28655930e+01,  1.00000000e+00]])"
      ]
     },
     "execution_count": 26,
     "metadata": {},
     "output_type": "execute_result"
    }
   ],
   "source": [
    "b"
   ]
  },
  {
   "cell_type": "code",
   "execution_count": 27,
   "metadata": {},
   "outputs": [
    {
     "data": {
      "text/html": [
       "<div>\n",
       "<style scoped>\n",
       "    .dataframe tbody tr th:only-of-type {\n",
       "        vertical-align: middle;\n",
       "    }\n",
       "\n",
       "    .dataframe tbody tr th {\n",
       "        vertical-align: top;\n",
       "    }\n",
       "\n",
       "    .dataframe thead th {\n",
       "        text-align: right;\n",
       "    }\n",
       "</style>\n",
       "<table border=\"1\" class=\"dataframe\">\n",
       "  <thead>\n",
       "    <tr style=\"text-align: right;\">\n",
       "      <th></th>\n",
       "      <th>V1</th>\n",
       "      <th>V2</th>\n",
       "      <th>V3</th>\n",
       "      <th>V4</th>\n",
       "      <th>V5</th>\n",
       "      <th>V6</th>\n",
       "      <th>V7</th>\n",
       "      <th>V8</th>\n",
       "      <th>V9</th>\n",
       "      <th>V10</th>\n",
       "      <th>...</th>\n",
       "      <th>V21</th>\n",
       "      <th>V22</th>\n",
       "      <th>V23</th>\n",
       "      <th>V24</th>\n",
       "      <th>V25</th>\n",
       "      <th>V26</th>\n",
       "      <th>V27</th>\n",
       "      <th>V28</th>\n",
       "      <th>Amount</th>\n",
       "      <th>Class</th>\n",
       "    </tr>\n",
       "  </thead>\n",
       "  <tbody>\n",
       "    <tr>\n",
       "      <th>0</th>\n",
       "      <td>-3.746488</td>\n",
       "      <td>1.671583</td>\n",
       "      <td>-3.326396</td>\n",
       "      <td>1.300700</td>\n",
       "      <td>-2.239374</td>\n",
       "      <td>-0.522375</td>\n",
       "      <td>-3.305003</td>\n",
       "      <td>0.872262</td>\n",
       "      <td>-1.570905</td>\n",
       "      <td>-4.529001</td>\n",
       "      <td>...</td>\n",
       "      <td>0.304583</td>\n",
       "      <td>0.651947</td>\n",
       "      <td>-0.166428</td>\n",
       "      <td>-0.070164</td>\n",
       "      <td>0.435700</td>\n",
       "      <td>0.085980</td>\n",
       "      <td>0.232742</td>\n",
       "      <td>-0.174524</td>\n",
       "      <td>84.963127</td>\n",
       "      <td>1.0</td>\n",
       "    </tr>\n",
       "    <tr>\n",
       "      <th>1</th>\n",
       "      <td>-5.657580</td>\n",
       "      <td>4.235440</td>\n",
       "      <td>-9.085348</td>\n",
       "      <td>5.152085</td>\n",
       "      <td>-8.096600</td>\n",
       "      <td>0.611667</td>\n",
       "      <td>-6.766641</td>\n",
       "      <td>2.330878</td>\n",
       "      <td>-2.725926</td>\n",
       "      <td>-8.237358</td>\n",
       "      <td>...</td>\n",
       "      <td>0.732509</td>\n",
       "      <td>1.698818</td>\n",
       "      <td>-0.145588</td>\n",
       "      <td>-0.266639</td>\n",
       "      <td>0.767018</td>\n",
       "      <td>0.817795</td>\n",
       "      <td>1.105154</td>\n",
       "      <td>-0.824903</td>\n",
       "      <td>451.143280</td>\n",
       "      <td>1.0</td>\n",
       "    </tr>\n",
       "    <tr>\n",
       "      <th>2</th>\n",
       "      <td>-4.194043</td>\n",
       "      <td>3.484703</td>\n",
       "      <td>-6.799837</td>\n",
       "      <td>3.915308</td>\n",
       "      <td>-4.308702</td>\n",
       "      <td>-1.649575</td>\n",
       "      <td>-8.820753</td>\n",
       "      <td>2.549461</td>\n",
       "      <td>-3.406720</td>\n",
       "      <td>-10.455271</td>\n",
       "      <td>...</td>\n",
       "      <td>1.517537</td>\n",
       "      <td>0.258504</td>\n",
       "      <td>0.178004</td>\n",
       "      <td>-0.457906</td>\n",
       "      <td>-0.229811</td>\n",
       "      <td>0.010223</td>\n",
       "      <td>1.706122</td>\n",
       "      <td>0.414557</td>\n",
       "      <td>0.745880</td>\n",
       "      <td>1.0</td>\n",
       "    </tr>\n",
       "    <tr>\n",
       "      <th>3</th>\n",
       "      <td>-3.151664</td>\n",
       "      <td>1.525101</td>\n",
       "      <td>-0.984689</td>\n",
       "      <td>4.935404</td>\n",
       "      <td>1.641620</td>\n",
       "      <td>-0.441148</td>\n",
       "      <td>-2.102955</td>\n",
       "      <td>0.356041</td>\n",
       "      <td>-3.197555</td>\n",
       "      <td>-2.311007</td>\n",
       "      <td>...</td>\n",
       "      <td>0.263501</td>\n",
       "      <td>-0.790250</td>\n",
       "      <td>-0.732062</td>\n",
       "      <td>-0.251963</td>\n",
       "      <td>-0.372670</td>\n",
       "      <td>0.546962</td>\n",
       "      <td>0.730577</td>\n",
       "      <td>0.019122</td>\n",
       "      <td>2.063379</td>\n",
       "      <td>1.0</td>\n",
       "    </tr>\n",
       "    <tr>\n",
       "      <th>4</th>\n",
       "      <td>-10.795351</td>\n",
       "      <td>6.751608</td>\n",
       "      <td>-19.413870</td>\n",
       "      <td>9.554858</td>\n",
       "      <td>-10.647628</td>\n",
       "      <td>-3.282837</td>\n",
       "      <td>-19.627871</td>\n",
       "      <td>6.974954</td>\n",
       "      <td>-4.369109</td>\n",
       "      <td>-17.993092</td>\n",
       "      <td>...</td>\n",
       "      <td>1.930022</td>\n",
       "      <td>0.669329</td>\n",
       "      <td>0.010475</td>\n",
       "      <td>-0.500988</td>\n",
       "      <td>-0.570860</td>\n",
       "      <td>0.324086</td>\n",
       "      <td>0.301991</td>\n",
       "      <td>0.039855</td>\n",
       "      <td>5.600980</td>\n",
       "      <td>1.0</td>\n",
       "    </tr>\n",
       "  </tbody>\n",
       "</table>\n",
       "<p>5 rows × 30 columns</p>\n",
       "</div>"
      ],
      "text/plain": [
       "          V1        V2         V3        V4         V5        V6         V7  \\\n",
       "0  -3.746488  1.671583  -3.326396  1.300700  -2.239374 -0.522375  -3.305003   \n",
       "1  -5.657580  4.235440  -9.085348  5.152085  -8.096600  0.611667  -6.766641   \n",
       "2  -4.194043  3.484703  -6.799837  3.915308  -4.308702 -1.649575  -8.820753   \n",
       "3  -3.151664  1.525101  -0.984689  4.935404   1.641620 -0.441148  -2.102955   \n",
       "4 -10.795351  6.751608 -19.413870  9.554858 -10.647628 -3.282837 -19.627871   \n",
       "\n",
       "         V8        V9        V10  ...       V21       V22       V23       V24  \\\n",
       "0  0.872262 -1.570905  -4.529001  ...  0.304583  0.651947 -0.166428 -0.070164   \n",
       "1  2.330878 -2.725926  -8.237358  ...  0.732509  1.698818 -0.145588 -0.266639   \n",
       "2  2.549461 -3.406720 -10.455271  ...  1.517537  0.258504  0.178004 -0.457906   \n",
       "3  0.356041 -3.197555  -2.311007  ...  0.263501 -0.790250 -0.732062 -0.251963   \n",
       "4  6.974954 -4.369109 -17.993092  ...  1.930022  0.669329  0.010475 -0.500988   \n",
       "\n",
       "        V25       V26       V27       V28      Amount  Class  \n",
       "0  0.435700  0.085980  0.232742 -0.174524   84.963127    1.0  \n",
       "1  0.767018  0.817795  1.105154 -0.824903  451.143280    1.0  \n",
       "2 -0.229811  0.010223  1.706122  0.414557    0.745880    1.0  \n",
       "3 -0.372670  0.546962  0.730577  0.019122    2.063379    1.0  \n",
       "4 -0.570860  0.324086  0.301991  0.039855    5.600980    1.0  \n",
       "\n",
       "[5 rows x 30 columns]"
      ]
     },
     "execution_count": 27,
     "metadata": {},
     "output_type": "execute_result"
    }
   ],
   "source": [
    "df_generatedData = pd.DataFrame(b, columns = feature_cols + label_col)\n",
    "df_generatedData.head()"
   ]
  },
  {
   "cell_type": "code",
   "execution_count": 28,
   "metadata": {},
   "outputs": [
    {
     "data": {
      "text/plain": [
       "(227845, 30)"
      ]
     },
     "execution_count": 28,
     "metadata": {},
     "output_type": "execute_result"
    }
   ],
   "source": [
    "train.shape"
   ]
  },
  {
   "cell_type": "code",
   "execution_count": 29,
   "metadata": {},
   "outputs": [],
   "source": [
    "train = train.append(df_generatedData)"
   ]
  },
  {
   "cell_type": "code",
   "execution_count": 30,
   "metadata": {},
   "outputs": [
    {
     "data": {
      "text/plain": [
       "Index(['V1', 'V2', 'V3', 'V4', 'V5', 'V6', 'V7', 'V8', 'V9', 'V10', 'V11',\n",
       "       'V12', 'V13', 'V14', 'V15', 'V16', 'V17', 'V18', 'V19', 'V20', 'V21',\n",
       "       'V22', 'V23', 'V24', 'V25', 'V26', 'V27', 'V28', 'Amount', 'Class'],\n",
       "      dtype='object')"
      ]
     },
     "execution_count": 30,
     "metadata": {},
     "output_type": "execute_result"
    }
   ],
   "source": [
    "train.columns"
   ]
  },
  {
   "cell_type": "code",
   "execution_count": 31,
   "metadata": {},
   "outputs": [
    {
     "data": {
      "text/plain": [
       "V1        0\n",
       "V2        0\n",
       "V3        0\n",
       "V4        0\n",
       "V5        0\n",
       "V6        0\n",
       "V7        0\n",
       "V8        0\n",
       "V9        0\n",
       "V10       0\n",
       "V11       0\n",
       "V12       0\n",
       "V13       0\n",
       "V14       0\n",
       "V15       0\n",
       "V16       0\n",
       "V17       0\n",
       "V18       0\n",
       "V19       0\n",
       "V20       0\n",
       "V21       0\n",
       "V22       0\n",
       "V23       0\n",
       "V24       0\n",
       "V25       0\n",
       "V26       0\n",
       "V27       0\n",
       "V28       0\n",
       "Amount    0\n",
       "Class     0\n",
       "dtype: int64"
      ]
     },
     "execution_count": 31,
     "metadata": {},
     "output_type": "execute_result"
    }
   ],
   "source": [
    "train.isnull().sum()"
   ]
  },
  {
   "cell_type": "code",
   "execution_count": 32,
   "metadata": {},
   "outputs": [],
   "source": [
    "train_y = train.Class"
   ]
  },
  {
   "cell_type": "code",
   "execution_count": 33,
   "metadata": {},
   "outputs": [
    {
     "data": {
      "text/plain": [
       "0"
      ]
     },
     "execution_count": 33,
     "metadata": {},
     "output_type": "execute_result"
    }
   ],
   "source": [
    "train_y.isnull().sum()"
   ]
  },
  {
   "cell_type": "code",
   "execution_count": 34,
   "metadata": {},
   "outputs": [],
   "source": [
    "train_X = train.drop('Class', axis=1, inplace=True)"
   ]
  },
  {
   "cell_type": "markdown",
   "metadata": {},
   "source": [
    "# XGBoost"
   ]
  },
  {
   "cell_type": "code",
   "execution_count": null,
   "metadata": {},
   "outputs": [],
   "source": [
    "import os\n",
    "os.environ['KMP_DUPLICATE_LIB_OK']='True'\n",
    "start_time = time.time()\n",
    "dtrain = xgb.DMatrix(train_X, train_y, feature_names=feature_cols)\n",
    "dtest = xgb.DMatrix(test_X, test_y, feature_names=feature_cols)\n",
    "\n",
    "results_dict = {}\n",
    "\n",
    "param = {\n",
    "        'max_depth':5, \n",
    "        'eta':0.3, \n",
    "        'verbosity': 1, \n",
    "        'objective':'binary:logistic', \n",
    "        'eval_metric': 'auc', \n",
    "        'seed': 42\n",
    "        }\n",
    "\n",
    "model = xgb.train(param, dtrain, num_boost_round=20)\n",
    "# make prediction\n",
    "preds = model.predict(dtest)\n",
    "elapsed_time = time.time() - start_time\n",
    "print('Time elapsed to train: ', elapsed_time)"
   ]
  },
  {
   "cell_type": "code",
   "execution_count": null,
   "metadata": {},
   "outputs": [],
   "source": [
    "preds = preds.round()"
   ]
  },
  {
   "cell_type": "code",
   "execution_count": null,
   "metadata": {},
   "outputs": [],
   "source": [
    "print('---' * 45)\n",
    "print('XGBoost ROC/AUC: {:.6f}'.format(roc_auc_score(test_y, preds)))\n",
    "print('Recall Score: {:.6f}'.format(recall_score(test_y, preds)))\n",
    "print('Precision Score: {:.6f}'.format(precision_score(test_y, preds)))\n",
    "print('F1 Score: {:.6f}'.format(f1_score(test_y, preds)))\n",
    "print('Accuracy Score: {:.6f}'.format(accuracy_score(test_y, preds)))\n",
    "print('---' * 45)"
   ]
  },
  {
   "cell_type": "code",
   "execution_count": null,
   "metadata": {},
   "outputs": [],
   "source": []
  }
 ],
 "metadata": {
  "kernelspec": {
   "display_name": "Python 3",
   "language": "python",
   "name": "python3"
  },
  "language_info": {
   "codemirror_mode": {
    "name": "ipython",
    "version": 3
   },
   "file_extension": ".py",
   "mimetype": "text/x-python",
   "name": "python",
   "nbconvert_exporter": "python",
   "pygments_lexer": "ipython3",
   "version": "3.7.3"
  }
 },
 "nbformat": 4,
 "nbformat_minor": 4
}
