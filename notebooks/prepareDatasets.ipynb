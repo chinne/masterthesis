{
 "cells": [
  {
   "cell_type": "code",
   "execution_count": 16,
   "metadata": {},
   "outputs": [],
   "source": [
    "import pandas as pd\n",
    "import sys\n",
    "import pickle\n",
    "sys.path.append(\"..\")\n",
    "\n",
    "from src.common.helperfunctions import *"
   ]
  },
  {
   "cell_type": "code",
   "execution_count": 2,
   "metadata": {},
   "outputs": [
    {
     "data": {
      "text/plain": [
       "'C:\\\\Users\\\\chinne\\\\ProjektMaster\\\\notebooks'"
      ]
     },
     "execution_count": 2,
     "metadata": {},
     "output_type": "execute_result"
    }
   ],
   "source": [
    "pwd"
   ]
  },
  {
   "cell_type": "code",
   "execution_count": 10,
   "metadata": {},
   "outputs": [],
   "source": [
    "df = pd.read_csv('../data/raw/creditcard.csv')"
   ]
  },
  {
   "cell_type": "code",
   "execution_count": 17,
   "metadata": {},
   "outputs": [],
   "source": [
    "#standard and robust scaling\n",
    "df_standard = standardScaler_df(df.copy())\n",
    "df_robust = robustScaler_df(df.copy())\n",
    "pickle.dump(df_standard, open(\"../data/processed/df_standard.pkl\", \"wb\"))\n",
    "pickle.dump(df_robust, open(\"../data/processed/df_robust.pkl\", \"wb\"))"
   ]
  },
  {
   "cell_type": "code",
   "execution_count": null,
   "metadata": {},
   "outputs": [],
   "source": [
    "df_fraud_standard = df_standard[df_standard['Class'] == 1].copy()\n",
    "pickle.dump(df_fraud_standard, open(\"data/df_fraud_all_standard.pkl\", \"wb\"))\n",
    "df_fraud_robust = df_robust[df_robust['Class'] == 1].copy()\n",
    "pickle.dump(df_fraud_robust, open(\"data/df_fraud_all_robust.pkl\", \"wb\"))"
   ]
  },
  {
   "cell_type": "code",
   "execution_count": null,
   "metadata": {},
   "outputs": [],
   "source": [
    "dropTime(df_standard)\n",
    "dropTime(df_robust)\n",
    "pickle.dump(df_standard, open(\"data/df_standard_noTime.pkl\", \"wb\"))\n",
    "pickle.dump(df_robust, open(\"data/df_robust_noTime.pkl\", \"wb\"))"
   ]
  },
  {
   "cell_type": "code",
   "execution_count": null,
   "metadata": {},
   "outputs": [],
   "source": [
    "df_fraud_standard = df_standard[df_standard['Class'] == 1].copy()\n",
    "df_fraud_robust = df_robust[df_robust['Class'] == 1].copy()"
   ]
  },
  {
   "cell_type": "code",
   "execution_count": null,
   "metadata": {},
   "outputs": [],
   "source": [
    "pickle.dump(df_fraud_standard, open(\"data/df_fraud_all_standard_noTime.pkl\", \"wb\"))\n",
    "pickle.dump(df_fraud_robust, open(\"data/df_fraud_all_robust_noTime.pkl\", \"wb\"))"
   ]
  },
  {
   "cell_type": "code",
   "execution_count": null,
   "metadata": {},
   "outputs": [],
   "source": []
  },
  {
   "cell_type": "code",
   "execution_count": null,
   "metadata": {},
   "outputs": [],
   "source": []
  }
 ],
 "metadata": {
  "kernelspec": {
   "display_name": "Python 3",
   "language": "python",
   "name": "python3"
  },
  "language_info": {
   "codemirror_mode": {
    "name": "ipython",
    "version": 3
   },
   "file_extension": ".py",
   "mimetype": "text/x-python",
   "name": "python",
   "nbconvert_exporter": "python",
   "pygments_lexer": "ipython3",
   "version": "3.7.1"
  }
 },
 "nbformat": 4,
 "nbformat_minor": 2
}
