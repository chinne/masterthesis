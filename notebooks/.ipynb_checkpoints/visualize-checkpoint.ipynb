{
 "cells": [
  {
   "cell_type": "code",
   "execution_count": 1,
   "metadata": {},
   "outputs": [
    {
     "ename": "ModuleNotFoundError",
     "evalue": "No module named 'matplotlib.pylot'",
     "output_type": "error",
     "traceback": [
      "\u001b[1;31m---------------------------------------------------------------------------\u001b[0m",
      "\u001b[1;31mModuleNotFoundError\u001b[0m                       Traceback (most recent call last)",
      "\u001b[1;32m<ipython-input-1-68ac1c8be84e>\u001b[0m in \u001b[0;36m<module>\u001b[1;34m\u001b[0m\n\u001b[0;32m      1\u001b[0m \u001b[1;32mimport\u001b[0m \u001b[0mpandas\u001b[0m \u001b[1;32mas\u001b[0m \u001b[0mpd\u001b[0m\u001b[1;33m\u001b[0m\u001b[1;33m\u001b[0m\u001b[0m\n\u001b[0;32m      2\u001b[0m \u001b[1;33m\u001b[0m\u001b[0m\n\u001b[1;32m----> 3\u001b[1;33m \u001b[1;32mimport\u001b[0m \u001b[0mmatplotlib\u001b[0m\u001b[1;33m.\u001b[0m\u001b[0mpylot\u001b[0m \u001b[1;32mas\u001b[0m \u001b[0mplt\u001b[0m\u001b[1;33m\u001b[0m\u001b[1;33m\u001b[0m\u001b[0m\n\u001b[0m",
      "\u001b[1;31mModuleNotFoundError\u001b[0m: No module named 'matplotlib.pylot'"
     ]
    }
   ],
   "source": [
    "import pandas as pd\n",
    "\n",
    "import matplotlib.pylot as plt"
   ]
  },
  {
   "cell_type": "code",
   "execution_count": null,
   "metadata": {},
   "outputs": [],
   "source": [
    "df = pd.read_x"
   ]
  },
  {
   "cell_type": "code",
   "execution_count": null,
   "metadata": {},
   "outputs": [],
   "source": [
    "f,ax=plt.subplots(15,2,figsize=(12,60))\n",
    "#f.delaxes(ax)\n",
    "col = list(data)\n",
    "col = [e for e in col if e not in ('Class')]\n",
    "\n",
    "for i,feature in enumerate(col):\n",
    "    sns.distplot(data[data['Class']==1].dropna()[(feature)], ax=ax[i//2,i%2], kde_kws={\"color\":\"black\"}, hist=False )\n",
    "    sns.distplot(data[data['Class']==0].dropna()[(feature)], ax=ax[i//2,i%2], kde_kws={\"color\":\"black\"}, hist=False )\n",
    "\n",
    "    # Get the two lines from the ax[i//2,i%2]es to generate shading\n",
    "    l1 = ax[i//2,i%2].lines[0]\n",
    "    l2 = ax[i//2,i%2].lines[1]\n",
    "\n",
    "    # Get the xy data from the lines so that we can shade\n",
    "    x1 = l1.get_xydata()[:,0]\n",
    "    y1 = l1.get_xydata()[:,1]\n",
    "    x2 = l2.get_xydata()[:,0]\n",
    "    y2 = l2.get_xydata()[:,1]\n",
    "    ax[i//2,i%2].fill_between(x2,y2, color=\"deeppink\", alpha=0.6)\n",
    "    ax[i//2,i%2].fill_between(x1,y1, color=\"darkturquoise\", alpha=0.6)\n",
    "\n",
    "    #grid\n",
    "    ax[i//2,i%2].grid(b=True, which='major', color='grey', linewidth=0.3)\n",
    "    \n",
    "    ax[i//2,i%2].set_title('{} by target'.format(feature), fontsize=18)\n",
    "    ax[i//2,i%2].set_ylabel('count', fontsize=12)\n",
    "    ax[i//2,i%2].set_xlabel('Modality', fontsize=12)\n",
    "\n",
    "    #sns.despine(ax[i//2,i%2]=ax[i//2,i%2], left=True)\n",
    "    ax[i//2,i%2].set_ylabel(\"frequency\", fontsize=12)\n",
    "    ax[i//2,i%2].set_xlabel(str(feature), fontsize=12)\n",
    "\n",
    "plt.tight_layout()\n",
    "plt.show()"
   ]
  }
 ],
 "metadata": {
  "kernelspec": {
   "display_name": "Python 3",
   "language": "python",
   "name": "python3"
  },
  "language_info": {
   "codemirror_mode": {
    "name": "ipython",
    "version": 3
   },
   "file_extension": ".py",
   "mimetype": "text/x-python",
   "name": "python",
   "nbconvert_exporter": "python",
   "pygments_lexer": "ipython3",
   "version": "3.7.1"
  }
 },
 "nbformat": 4,
 "nbformat_minor": 2
}
